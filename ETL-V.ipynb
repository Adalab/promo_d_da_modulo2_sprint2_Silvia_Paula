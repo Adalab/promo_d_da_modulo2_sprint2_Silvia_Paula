{
 "cells": [
  {
   "attachments": {},
   "cell_type": "markdown",
   "metadata": {},
   "source": [
    "Igual que en el ejercicio de pair programming de ETL Transformación II, tendréis que crear una clase que nos permita cargar los datos en SQL I."
   ]
  },
  {
   "cell_type": "code",
   "execution_count": 1,
   "metadata": {},
   "outputs": [],
   "source": [
    "import pandas as pd\n",
    "import mysql.connector"
   ]
  },
  {
   "cell_type": "code",
   "execution_count": 12,
   "metadata": {},
   "outputs": [],
   "source": [
    "class Creacion_SQL:\n",
    "\n",
    "    def __init__(self, nombre_bbdd, pwd):\n",
    "        self.nombre_bbdd = nombre_bbdd\n",
    "        self.pwd = pwd\n",
    "\n",
    "\n",
    "    def create_DB(self):\n",
    "\n",
    "        mydb = mysql.connector.connect(\n",
    "            host=\"localhost\",\n",
    "            user=\"root\",\n",
    "            password= f'{self.pwd}' \n",
    "        )\n",
    "        print(\"Conexión realizada con éxito\")\n",
    "        \n",
    "        mycursor = mydb.cursor()\n",
    "\n",
    "        try:\n",
    "            mycursor.execute(f\"CREATE SCHEMA IF NOT EXISTS {self.nombre_bbdd} DEFAULT CHARACTER SET utf8 ;\")\n",
    "            print(mycursor)\n",
    "        except mysql.connector.Error as err:\n",
    "            print(err)\n",
    "            print(\"Error Code:\", err.errno)\n",
    "            print(\"SQLSTATE\", err.sqlstate)\n",
    "            print(\"Message\", err.msg)\n",
    "\n",
    "\n",
    "    def create_insert(self, query):\n",
    "    \n",
    "\n",
    "        cnx = mysql.connector.connect(user='root', password=f\"{self.pwd}\",\n",
    "                                        host='127.0.0.1', database=f\"{self.nombre_bbdd}\")\n",
    "\n",
    "        mycursor = cnx.cursor()\n",
    "        \n",
    "        \n",
    "        try: \n",
    "            mycursor.execute(query)\n",
    "            cnx.commit() \n",
    "        \n",
    "        except mysql.connector.Error as err:\n",
    "            print(err)\n",
    "            print(\"Error Code:\", err.errno)\n",
    "            print(\"SQLSTATE\", err.sqlstate)\n",
    "            print(\"Message\", err.msg)\n",
    "\n",
    "    def check_fechas_comunidades(self, query):\n",
    "\n",
    "           \n",
    "            cnx = mysql.connector.connect(user='root', password=f'{self.pwd}',\n",
    "                                        host='127.0.0.1', database=f\"{self.nombre_bbdd}\")\n",
    "            mycursor = cnx.cursor()\n",
    "\n",
    "\n",
    "            \n",
    "            mycursor.execute(query)\n",
    "            datos = mycursor.fetchall()\n",
    "            return datos\n",
    "\n",
    "\n",
    "    def sacar_id_comunidad(self, comunidad):\n",
    "    \n",
    "        cnx = mysql.connector.connect(user='root', password= f'{self.pwd}',\n",
    "                                    host='127.0.0.1', database=f\"{self.nombre_bbdd}\",  auth_plugin = 'mysql_native_password')\n",
    "        mycursor = cnx.cursor()\n",
    "\n",
    "        try: \n",
    "            query_sacar_id_com = f\"SELECT idcomunidades FROM comunidades WHERE comunidad = f'{comunidad}'\"\n",
    "            mycursor.execute(query_sacar_id_com)\n",
    "            id_ = mycursor.fetchall()[0][0]\n",
    "            return id_\n",
    "        \n",
    "        except: \n",
    "            return \"Sorry, no tenemos esa comunidad en la BBDD y por lo tanto no te podemos dar su id. \"\n",
    "        \n",
    "    def sacar_id_fecha(self, fecha):\n",
    "    \n",
    "        cnx = mysql.connector.connect(user='root', password= f'{self.pwd}',\n",
    "                                    host='127.0.0.1', database=f\"{self.nombre_bbdd}\",  auth_plugin = 'mysql_native_password')\n",
    "        mycursor = cnx.cursor()\n",
    "\n",
    "        try: \n",
    "            query_sacar_id_fecha = f\"SELECT idFechas FROM fechas WHERE fecha = f'{fecha}'\"\n",
    "            mycursor.execute(query_sacar_id_fecha)\n",
    "            id_ = mycursor.fetchall()[0][0]\n",
    "            return id_\n",
    "        \n",
    "        except: \n",
    "            return \"Sorry, no tenemos esa fecha en la BBDD y por lo tanto no te podemos dar su id. \""
   ]
  },
  {
   "cell_type": "code",
   "execution_count": 3,
   "metadata": {},
   "outputs": [],
   "source": [
    "rompe_ralph= Creacion_SQL(\"ralph\", \"AlumnaAdalab\")"
   ]
  },
  {
   "cell_type": "code",
   "execution_count": 4,
   "metadata": {},
   "outputs": [
    {
     "name": "stdout",
     "output_type": "stream",
     "text": [
      "Conexión realizada con éxito\n",
      "CMySQLCursor: CREATE SCHEMA IF NOT EXISTS ralph DEFAUL..\n"
     ]
    }
   ],
   "source": [
    "rompe_ralph.create_DB()"
   ]
  },
  {
   "cell_type": "code",
   "execution_count": 5,
   "metadata": {},
   "outputs": [],
   "source": [
    "tabla_fechas = \"\"\"\n",
    "CREATE TABLE IF NOT EXISTS `ralph`.`Fechas` (\n",
    "  `idFechas` INT NOT NULL AUTO_INCREMENT,\n",
    "  `fecha` DATE NOT NULL,\n",
    "  PRIMARY KEY (`idFechas`))\n",
    "ENGINE = InnoDB;\n",
    "\"\"\"\n",
    "\n",
    "tabla_nacional_R_nR = \"\"\"\n",
    "CREATE TABLE IF NOT EXISTS `ralph`.`nacional_renovable_no_renovable` (\n",
    "  `idnacional_renovable_no_renovable` INT NOT NULL AUTO_INCREMENT,\n",
    "  `porcentaje` INT NOT NULL,\n",
    "  `tipo_energia` VARCHAR(45) NOT NULL,\n",
    "  `valor` DECIMAL NOT NULL,\n",
    "  `Fechas_idFechas` INT NOT NULL,\n",
    "  PRIMARY KEY (`idnacional_renovable_no_renovable`),\n",
    "  INDEX `fk_nacional_renovable_no_renovable_Fechas_idx` (`Fechas_idFechas` ASC) VISIBLE,\n",
    "  CONSTRAINT `fk_nacional_renovable_no_renovable_Fechas`\n",
    "    FOREIGN KEY (`Fechas_idFechas`)\n",
    "    REFERENCES `ralph`.`Fechas` (`idFechas`)\n",
    "    ON DELETE CASCADE\n",
    "    ON UPDATE CASCADE)\n",
    "ENGINE = InnoDB;\n",
    "\"\"\"\n",
    "\n",
    "tabla_comunidades_R_nR = \"\"\"\n",
    "CREATE TABLE IF NOT EXISTS `ralph`.`comunidades_renovable_no_renovable` (\n",
    "  `idcomunidades_renovable_no_renovable` INT NOT NULL AUTO_INCREMENT,\n",
    "  `porcentaje` INT NOT NULL,\n",
    "  `tipo_energia` VARCHAR(45) NOT NULL,\n",
    "  `valor` DECIMAL NOT NULL,\n",
    "  `Fechas_idFechas` INT NOT NULL,\n",
    "  `comunidades_idcomunidades` INT NOT NULL,\n",
    "  PRIMARY KEY (`idcomunidades_renovable_no_renovable`),\n",
    "  INDEX `fk_comunidades_renovable_no_renovable_Fechas1_idx` (`Fechas_idFechas` ASC) VISIBLE,\n",
    "  INDEX `fk_comunidades_renovable_no_renovable_comunidades1_idx` (`comunidades_idcomunidades` ASC) VISIBLE,\n",
    "  CONSTRAINT `fk_comunidades_renovable_no_renovable_Fechas1`\n",
    "    FOREIGN KEY (`Fechas_idFechas`)\n",
    "    REFERENCES `ralph`.`Fechas` (`idFechas`)\n",
    "    ON DELETE CASCADE\n",
    "    ON UPDATE CASCADE,\n",
    "  CONSTRAINT `fk_comunidades_renovable_no_renovable_comunidades1`\n",
    "    FOREIGN KEY (`comunidades_idcomunidades`)\n",
    "    REFERENCES `ralph`.`comunidades` (`idcomunidades`)\n",
    "    ON DELETE CASCADE\n",
    "    ON UPDATE CASCADE)\n",
    "ENGINE = InnoDB;\n",
    "\"\"\"\n",
    "\n",
    "\n",
    "tabla_comunidades = \"\"\"\n",
    "CREATE TABLE IF NOT EXISTS `ralph`.`comunidades` (\n",
    "  `idcomunidades` INT NOT NULL AUTO_INCREMENT,\n",
    "  `comunidad` VARCHAR(45) NOT NULL,\n",
    "  PRIMARY KEY (`idcomunidades`))\n",
    "ENGINE = InnoDB;\n",
    "\"\"\""
   ]
  },
  {
   "cell_type": "code",
   "execution_count": 6,
   "metadata": {},
   "outputs": [],
   "source": [
    "rompe_ralph.create_insert(tabla_fechas)\n",
    "rompe_ralph.create_insert(tabla_comunidades)\n",
    "rompe_ralph.create_insert(tabla_nacional_R_nR)\n",
    "rompe_ralph.create_insert(tabla_comunidades_R_nR)\n"
   ]
  },
  {
   "cell_type": "code",
   "execution_count": 7,
   "metadata": {},
   "outputs": [],
   "source": [
    "df_renovables = pd.read_pickle(\"datos/tipo_energia.pkl\")\n",
    "df_comunidades = pd.read_pickle(\"datos/datos_comunidades.pkl\")"
   ]
  },
  {
   "cell_type": "code",
   "execution_count": 27,
   "metadata": {},
   "outputs": [],
   "source": [
    "for indice, fila in df_renovables.iterrows(): \n",
    "    query_fechas = f\"\"\"\n",
    "            INSERT INTO Fechas (fecha) \n",
    "            VALUES (\"{fila['fecha']}\");\n",
    "            \"\"\"\n",
    "    \n",
    "    rompe_ralph.create_insert(query_fechas)"
   ]
  },
  {
   "cell_type": "code",
   "execution_count": 21,
   "metadata": {},
   "outputs": [],
   "source": [
    "query_existe_fecha = f\"\"\"\n",
    "            SELECT DISTINCT fecha FROM Fechas\n",
    "            \"\"\""
   ]
  },
  {
   "cell_type": "code",
   "execution_count": 28,
   "metadata": {},
   "outputs": [
    {
     "data": {
      "text/plain": [
       "[(datetime.date(2011, 1, 1),),\n",
       " (datetime.date(2012, 1, 1),),\n",
       " (datetime.date(2013, 1, 1),),\n",
       " (datetime.date(2014, 1, 1),),\n",
       " (datetime.date(2015, 1, 1),),\n",
       " (datetime.date(2016, 1, 1),),\n",
       " (datetime.date(2017, 1, 1),),\n",
       " (datetime.date(2018, 1, 1),),\n",
       " (datetime.date(2019, 1, 1),),\n",
       " (datetime.date(2020, 1, 1),),\n",
       " (datetime.date(2021, 1, 1),),\n",
       " (datetime.date(2022, 1, 1),)]"
      ]
     },
     "execution_count": 28,
     "metadata": {},
     "output_type": "execute_result"
    }
   ],
   "source": [
    "rompe_ralph.check_fechas_comunidades(query_existe_fecha)"
   ]
  },
  {
   "cell_type": "code",
   "execution_count": 32,
   "metadata": {},
   "outputs": [
    {
     "name": "stdout",
     "output_type": "stream",
     "text": [
      "2011-01-01 00:00:00\n"
     ]
    }
   ],
   "source": [
    "for indice, fila in df_renovables.iterrows():\n",
    "    print(fila[\"fecha\"])\n",
    "    \n",
    "    id_fecha = rompe_ralph.sacar_id_fecha(fila[\"fecha\"])\n",
    "    break"
   ]
  },
  {
   "cell_type": "code",
   "execution_count": 31,
   "metadata": {},
   "outputs": [
    {
     "data": {
      "text/html": [
       "<div>\n",
       "<style scoped>\n",
       "    .dataframe tbody tr th:only-of-type {\n",
       "        vertical-align: middle;\n",
       "    }\n",
       "\n",
       "    .dataframe tbody tr th {\n",
       "        vertical-align: top;\n",
       "    }\n",
       "\n",
       "    .dataframe thead th {\n",
       "        text-align: right;\n",
       "    }\n",
       "</style>\n",
       "<table border=\"1\" class=\"dataframe\">\n",
       "  <thead>\n",
       "    <tr style=\"text-align: right;\">\n",
       "      <th></th>\n",
       "      <th>value</th>\n",
       "      <th>percentage</th>\n",
       "      <th>datetime</th>\n",
       "      <th>tipo_energia</th>\n",
       "      <th>fecha</th>\n",
       "    </tr>\n",
       "  </thead>\n",
       "  <tbody>\n",
       "    <tr>\n",
       "      <th>0</th>\n",
       "      <td>8.666705e+07</td>\n",
       "      <td>0.31</td>\n",
       "      <td>2011-01-01T00:00:00.000+01:00</td>\n",
       "      <td>Renovable</td>\n",
       "      <td>2011-01-01</td>\n",
       "    </tr>\n",
       "    <tr>\n",
       "      <th>1</th>\n",
       "      <td>1.926868e+08</td>\n",
       "      <td>0.69</td>\n",
       "      <td>2011-01-01T00:00:00.000+01:00</td>\n",
       "      <td>No renovable</td>\n",
       "      <td>2011-01-01</td>\n",
       "    </tr>\n",
       "    <tr>\n",
       "      <th>2</th>\n",
       "      <td>8.533872e+07</td>\n",
       "      <td>0.30</td>\n",
       "      <td>2012-01-01T00:00:00.000+01:00</td>\n",
       "      <td>Renovable</td>\n",
       "      <td>2012-01-01</td>\n",
       "    </tr>\n",
       "    <tr>\n",
       "      <th>3</th>\n",
       "      <td>1.977799e+08</td>\n",
       "      <td>0.70</td>\n",
       "      <td>2012-01-01T00:00:00.000+01:00</td>\n",
       "      <td>No renovable</td>\n",
       "      <td>2012-01-01</td>\n",
       "    </tr>\n",
       "    <tr>\n",
       "      <th>4</th>\n",
       "      <td>1.097577e+08</td>\n",
       "      <td>0.40</td>\n",
       "      <td>2013-01-01T00:00:00.000+01:00</td>\n",
       "      <td>Renovable</td>\n",
       "      <td>2013-01-01</td>\n",
       "    </tr>\n",
       "  </tbody>\n",
       "</table>\n",
       "</div>"
      ],
      "text/plain": [
       "          value  percentage                       datetime  tipo_energia   \n",
       "0  8.666705e+07        0.31  2011-01-01T00:00:00.000+01:00     Renovable  \\\n",
       "1  1.926868e+08        0.69  2011-01-01T00:00:00.000+01:00  No renovable   \n",
       "2  8.533872e+07        0.30  2012-01-01T00:00:00.000+01:00     Renovable   \n",
       "3  1.977799e+08        0.70  2012-01-01T00:00:00.000+01:00  No renovable   \n",
       "4  1.097577e+08        0.40  2013-01-01T00:00:00.000+01:00     Renovable   \n",
       "\n",
       "       fecha  \n",
       "0 2011-01-01  \n",
       "1 2011-01-01  \n",
       "2 2012-01-01  \n",
       "3 2012-01-01  \n",
       "4 2013-01-01  "
      ]
     },
     "execution_count": 31,
     "metadata": {},
     "output_type": "execute_result"
    }
   ],
   "source": [
    "df_renovables.head()"
   ]
  },
  {
   "cell_type": "code",
   "execution_count": 30,
   "metadata": {},
   "outputs": [
    {
     "data": {
      "text/plain": [
       "'Sorry, no tenemos esa fecha en la BBDD y por lo tanto no te podemos dar su id. '"
      ]
     },
     "execution_count": 30,
     "metadata": {},
     "output_type": "execute_result"
    }
   ],
   "source": [
    "id_fecha"
   ]
  },
  {
   "cell_type": "code",
   "execution_count": null,
   "metadata": {},
   "outputs": [
    {
     "name": "stdout",
     "output_type": "stream",
     "text": [
      "1064 (42000): You have an error in your SQL syntax; check the manual that corresponds to your MySQL server version for the right syntax to use near 'tenemos esa fecha en la BBDD y por lo tanto no te podemos dar su id. )' at line 2\n",
      "Error Code: 1064\n",
      "SQLSTATE 42000\n",
      "Message You have an error in your SQL syntax; check the manual that corresponds to your MySQL server version for the right syntax to use near 'tenemos esa fecha en la BBDD y por lo tanto no te podemos dar su id. )' at line 2\n",
      "1064 (42000): You have an error in your SQL syntax; check the manual that corresponds to your MySQL server version for the right syntax to use near 'tenemos esa fecha en la BBDD y por lo tanto no te podemos dar su id. )' at line 2\n",
      "Error Code: 1064\n",
      "SQLSTATE 42000\n",
      "Message You have an error in your SQL syntax; check the manual that corresponds to your MySQL server version for the right syntax to use near 'tenemos esa fecha en la BBDD y por lo tanto no te podemos dar su id. )' at line 2\n",
      "1064 (42000): You have an error in your SQL syntax; check the manual that corresponds to your MySQL server version for the right syntax to use near 'tenemos esa fecha en la BBDD y por lo tanto no te podemos dar su id. )' at line 2\n",
      "Error Code: 1064\n",
      "SQLSTATE 42000\n",
      "Message You have an error in your SQL syntax; check the manual that corresponds to your MySQL server version for the right syntax to use near 'tenemos esa fecha en la BBDD y por lo tanto no te podemos dar su id. )' at line 2\n",
      "1064 (42000): You have an error in your SQL syntax; check the manual that corresponds to your MySQL server version for the right syntax to use near 'tenemos esa fecha en la BBDD y por lo tanto no te podemos dar su id. )' at line 2\n",
      "Error Code: 1064\n",
      "SQLSTATE 42000\n",
      "Message You have an error in your SQL syntax; check the manual that corresponds to your MySQL server version for the right syntax to use near 'tenemos esa fecha en la BBDD y por lo tanto no te podemos dar su id. )' at line 2\n",
      "1064 (42000): You have an error in your SQL syntax; check the manual that corresponds to your MySQL server version for the right syntax to use near 'tenemos esa fecha en la BBDD y por lo tanto no te podemos dar su id. )' at line 2\n",
      "Error Code: 1064\n",
      "SQLSTATE 42000\n",
      "Message You have an error in your SQL syntax; check the manual that corresponds to your MySQL server version for the right syntax to use near 'tenemos esa fecha en la BBDD y por lo tanto no te podemos dar su id. )' at line 2\n",
      "1064 (42000): You have an error in your SQL syntax; check the manual that corresponds to your MySQL server version for the right syntax to use near 'tenemos esa fecha en la BBDD y por lo tanto no te podemos dar su id. )' at line 2\n",
      "Error Code: 1064\n",
      "SQLSTATE 42000\n",
      "Message You have an error in your SQL syntax; check the manual that corresponds to your MySQL server version for the right syntax to use near 'tenemos esa fecha en la BBDD y por lo tanto no te podemos dar su id. )' at line 2\n",
      "1064 (42000): You have an error in your SQL syntax; check the manual that corresponds to your MySQL server version for the right syntax to use near 'tenemos esa fecha en la BBDD y por lo tanto no te podemos dar su id. )' at line 2\n",
      "Error Code: 1064\n",
      "SQLSTATE 42000\n",
      "Message You have an error in your SQL syntax; check the manual that corresponds to your MySQL server version for the right syntax to use near 'tenemos esa fecha en la BBDD y por lo tanto no te podemos dar su id. )' at line 2\n",
      "1064 (42000): You have an error in your SQL syntax; check the manual that corresponds to your MySQL server version for the right syntax to use near 'tenemos esa fecha en la BBDD y por lo tanto no te podemos dar su id. )' at line 2\n",
      "Error Code: 1064\n",
      "SQLSTATE 42000\n",
      "Message You have an error in your SQL syntax; check the manual that corresponds to your MySQL server version for the right syntax to use near 'tenemos esa fecha en la BBDD y por lo tanto no te podemos dar su id. )' at line 2\n",
      "1064 (42000): You have an error in your SQL syntax; check the manual that corresponds to your MySQL server version for the right syntax to use near 'tenemos esa fecha en la BBDD y por lo tanto no te podemos dar su id. )' at line 2\n",
      "Error Code: 1064\n",
      "SQLSTATE 42000\n",
      "Message You have an error in your SQL syntax; check the manual that corresponds to your MySQL server version for the right syntax to use near 'tenemos esa fecha en la BBDD y por lo tanto no te podemos dar su id. )' at line 2\n",
      "1064 (42000): You have an error in your SQL syntax; check the manual that corresponds to your MySQL server version for the right syntax to use near 'tenemos esa fecha en la BBDD y por lo tanto no te podemos dar su id. )' at line 2\n",
      "Error Code: 1064\n",
      "SQLSTATE 42000\n",
      "Message You have an error in your SQL syntax; check the manual that corresponds to your MySQL server version for the right syntax to use near 'tenemos esa fecha en la BBDD y por lo tanto no te podemos dar su id. )' at line 2\n",
      "1064 (42000): You have an error in your SQL syntax; check the manual that corresponds to your MySQL server version for the right syntax to use near 'tenemos esa fecha en la BBDD y por lo tanto no te podemos dar su id. )' at line 2\n",
      "Error Code: 1064\n",
      "SQLSTATE 42000\n",
      "Message You have an error in your SQL syntax; check the manual that corresponds to your MySQL server version for the right syntax to use near 'tenemos esa fecha en la BBDD y por lo tanto no te podemos dar su id. )' at line 2\n",
      "1064 (42000): You have an error in your SQL syntax; check the manual that corresponds to your MySQL server version for the right syntax to use near 'tenemos esa fecha en la BBDD y por lo tanto no te podemos dar su id. )' at line 2\n",
      "Error Code: 1064\n",
      "SQLSTATE 42000\n",
      "Message You have an error in your SQL syntax; check the manual that corresponds to your MySQL server version for the right syntax to use near 'tenemos esa fecha en la BBDD y por lo tanto no te podemos dar su id. )' at line 2\n",
      "1064 (42000): You have an error in your SQL syntax; check the manual that corresponds to your MySQL server version for the right syntax to use near 'tenemos esa fecha en la BBDD y por lo tanto no te podemos dar su id. )' at line 2\n",
      "Error Code: 1064\n",
      "SQLSTATE 42000\n",
      "Message You have an error in your SQL syntax; check the manual that corresponds to your MySQL server version for the right syntax to use near 'tenemos esa fecha en la BBDD y por lo tanto no te podemos dar su id. )' at line 2\n",
      "1064 (42000): You have an error in your SQL syntax; check the manual that corresponds to your MySQL server version for the right syntax to use near 'tenemos esa fecha en la BBDD y por lo tanto no te podemos dar su id. )' at line 2\n",
      "Error Code: 1064\n",
      "SQLSTATE 42000\n",
      "Message You have an error in your SQL syntax; check the manual that corresponds to your MySQL server version for the right syntax to use near 'tenemos esa fecha en la BBDD y por lo tanto no te podemos dar su id. )' at line 2\n",
      "1064 (42000): You have an error in your SQL syntax; check the manual that corresponds to your MySQL server version for the right syntax to use near 'tenemos esa fecha en la BBDD y por lo tanto no te podemos dar su id. )' at line 2\n",
      "Error Code: 1064\n",
      "SQLSTATE 42000\n",
      "Message You have an error in your SQL syntax; check the manual that corresponds to your MySQL server version for the right syntax to use near 'tenemos esa fecha en la BBDD y por lo tanto no te podemos dar su id. )' at line 2\n",
      "1064 (42000): You have an error in your SQL syntax; check the manual that corresponds to your MySQL server version for the right syntax to use near 'tenemos esa fecha en la BBDD y por lo tanto no te podemos dar su id. )' at line 2\n",
      "Error Code: 1064\n",
      "SQLSTATE 42000\n",
      "Message You have an error in your SQL syntax; check the manual that corresponds to your MySQL server version for the right syntax to use near 'tenemos esa fecha en la BBDD y por lo tanto no te podemos dar su id. )' at line 2\n",
      "1064 (42000): You have an error in your SQL syntax; check the manual that corresponds to your MySQL server version for the right syntax to use near 'tenemos esa fecha en la BBDD y por lo tanto no te podemos dar su id. )' at line 2\n",
      "Error Code: 1064\n",
      "SQLSTATE 42000\n",
      "Message You have an error in your SQL syntax; check the manual that corresponds to your MySQL server version for the right syntax to use near 'tenemos esa fecha en la BBDD y por lo tanto no te podemos dar su id. )' at line 2\n",
      "1064 (42000): You have an error in your SQL syntax; check the manual that corresponds to your MySQL server version for the right syntax to use near 'tenemos esa fecha en la BBDD y por lo tanto no te podemos dar su id. )' at line 2\n",
      "Error Code: 1064\n",
      "SQLSTATE 42000\n",
      "Message You have an error in your SQL syntax; check the manual that corresponds to your MySQL server version for the right syntax to use near 'tenemos esa fecha en la BBDD y por lo tanto no te podemos dar su id. )' at line 2\n",
      "1064 (42000): You have an error in your SQL syntax; check the manual that corresponds to your MySQL server version for the right syntax to use near 'tenemos esa fecha en la BBDD y por lo tanto no te podemos dar su id. )' at line 2\n",
      "Error Code: 1064\n",
      "SQLSTATE 42000\n",
      "Message You have an error in your SQL syntax; check the manual that corresponds to your MySQL server version for the right syntax to use near 'tenemos esa fecha en la BBDD y por lo tanto no te podemos dar su id. )' at line 2\n",
      "1064 (42000): You have an error in your SQL syntax; check the manual that corresponds to your MySQL server version for the right syntax to use near 'tenemos esa fecha en la BBDD y por lo tanto no te podemos dar su id. )' at line 2\n",
      "Error Code: 1064\n",
      "SQLSTATE 42000\n",
      "Message You have an error in your SQL syntax; check the manual that corresponds to your MySQL server version for the right syntax to use near 'tenemos esa fecha en la BBDD y por lo tanto no te podemos dar su id. )' at line 2\n",
      "1064 (42000): You have an error in your SQL syntax; check the manual that corresponds to your MySQL server version for the right syntax to use near 'tenemos esa fecha en la BBDD y por lo tanto no te podemos dar su id. )' at line 2\n",
      "Error Code: 1064\n",
      "SQLSTATE 42000\n",
      "Message You have an error in your SQL syntax; check the manual that corresponds to your MySQL server version for the right syntax to use near 'tenemos esa fecha en la BBDD y por lo tanto no te podemos dar su id. )' at line 2\n",
      "1064 (42000): You have an error in your SQL syntax; check the manual that corresponds to your MySQL server version for the right syntax to use near 'tenemos esa fecha en la BBDD y por lo tanto no te podemos dar su id. )' at line 2\n",
      "Error Code: 1064\n",
      "SQLSTATE 42000\n",
      "Message You have an error in your SQL syntax; check the manual that corresponds to your MySQL server version for the right syntax to use near 'tenemos esa fecha en la BBDD y por lo tanto no te podemos dar su id. )' at line 2\n",
      "1064 (42000): You have an error in your SQL syntax; check the manual that corresponds to your MySQL server version for the right syntax to use near 'tenemos esa fecha en la BBDD y por lo tanto no te podemos dar su id. )' at line 2\n",
      "Error Code: 1064\n",
      "SQLSTATE 42000\n",
      "Message You have an error in your SQL syntax; check the manual that corresponds to your MySQL server version for the right syntax to use near 'tenemos esa fecha en la BBDD y por lo tanto no te podemos dar su id. )' at line 2\n",
      "1064 (42000): You have an error in your SQL syntax; check the manual that corresponds to your MySQL server version for the right syntax to use near 'tenemos esa fecha en la BBDD y por lo tanto no te podemos dar su id. )' at line 2\n",
      "Error Code: 1064\n",
      "SQLSTATE 42000\n",
      "Message You have an error in your SQL syntax; check the manual that corresponds to your MySQL server version for the right syntax to use near 'tenemos esa fecha en la BBDD y por lo tanto no te podemos dar su id. )' at line 2\n"
     ]
    }
   ],
   "source": [
    "for indice, fila in df_renovables.iterrows():\n",
    "    id_fecha = rompe_ralph.sacar_id_fecha(fila[\"fecha\"])\n",
    "    \n",
    "    query_datos_renovables = f\"\"\"\n",
    "                INSERT INTO nacional_renovable_no_renovable (porcentaje, tipo_energia, valor, Fechas_idFechas) \n",
    "                VALUES (\"{fila['percentage']}\", \"{fila['tipo_energia']}\", \"{fila['value']}\", {id_fecha});\n",
    "                \"\"\"\n",
    "    rompe_ralph.create_insert(query_datos_renovables)"
   ]
  },
  {
   "cell_type": "code",
   "execution_count": null,
   "metadata": {},
   "outputs": [
    {
     "data": {
      "text/html": [
       "<div>\n",
       "<style scoped>\n",
       "    .dataframe tbody tr th:only-of-type {\n",
       "        vertical-align: middle;\n",
       "    }\n",
       "\n",
       "    .dataframe tbody tr th {\n",
       "        vertical-align: top;\n",
       "    }\n",
       "\n",
       "    .dataframe thead th {\n",
       "        text-align: right;\n",
       "    }\n",
       "</style>\n",
       "<table border=\"1\" class=\"dataframe\">\n",
       "  <thead>\n",
       "    <tr style=\"text-align: right;\">\n",
       "      <th></th>\n",
       "      <th>value</th>\n",
       "      <th>percentage</th>\n",
       "      <th>datetime</th>\n",
       "      <th>tipo_energia</th>\n",
       "      <th>fecha</th>\n",
       "    </tr>\n",
       "  </thead>\n",
       "  <tbody>\n",
       "    <tr>\n",
       "      <th>0</th>\n",
       "      <td>86667052.85</td>\n",
       "      <td>0.31</td>\n",
       "      <td>2011-01-01T00:00:00.000+01:00</td>\n",
       "      <td>Renovable</td>\n",
       "      <td>2011-01-01</td>\n",
       "    </tr>\n",
       "  </tbody>\n",
       "</table>\n",
       "</div>"
      ],
      "text/plain": [
       "         value  percentage                       datetime tipo_energia   \n",
       "0  86667052.85        0.31  2011-01-01T00:00:00.000+01:00    Renovable  \\\n",
       "\n",
       "       fecha  \n",
       "0 2011-01-01  "
      ]
     },
     "execution_count": 8,
     "metadata": {},
     "output_type": "execute_result"
    }
   ],
   "source": [
    "df_renovables.head(1)"
   ]
  },
  {
   "cell_type": "code",
   "execution_count": null,
   "metadata": {},
   "outputs": [],
   "source": [
    "for indice, fila in df_renovables.iterrows():\n",
    "    \n",
    "    id_comunidad = sacar_id_comunidad(fila['comunidad'])\n",
    "    id_fecha = sacar_id_fecha(fila[\"fecha\"])\n",
    "    \n",
    "    query_medidas = f\"\"\"\n",
    "                INSERT INTO mediciones (cloudcover, lifted_index, prec_type, prec_amount, temp2m, rh2m, weather, wind_direction, wind_speed, seeing, transparency, idtiempo, idlocalidad) \n",
    "                VALUES ({fila[\"cloudcover\"]}, {fila['lifted_index']}, \"{fila['prec_type']}\", {fila['prec_amount']},{fila['temp2m']},{fila['rh2m']}, \"{fila['weather']}\",\"{fila['wind10m.direction']}\",{fila['wind10m.speed']}, {fila['seeing']}, {fila['transparency']}, {id_fecha}, {id_ciudad});\n",
    "                \"\"\"\n",
    "    rompe_ralph.create_insert(query_medidas)\n",
    "    "
   ]
  }
 ],
 "metadata": {
  "kernelspec": {
   "display_name": "Python 3",
   "language": "python",
   "name": "python3"
  },
  "language_info": {
   "codemirror_mode": {
    "name": "ipython",
    "version": 3
   },
   "file_extension": ".py",
   "mimetype": "text/x-python",
   "name": "python",
   "nbconvert_exporter": "python",
   "pygments_lexer": "ipython3",
   "version": "3.9.7"
  },
  "orig_nbformat": 4
 },
 "nbformat": 4,
 "nbformat_minor": 2
}
