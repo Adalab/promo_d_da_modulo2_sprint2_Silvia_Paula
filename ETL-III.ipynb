{
 "cells": [
  {
   "attachments": {},
   "cell_type": "markdown",
   "metadata": {},
   "source": [
    "En la lección de hoy aprendimos como crearnos una clase que nos permita limpiar los datos obtenidos de la API.\n",
    "En este ejercicio, tendréis que crear una clase con el código que usamos en los ejercicios de pair programming de ETL Transformación I y II."
   ]
  },
  {
   "cell_type": "code",
   "execution_count": null,
   "metadata": {},
   "outputs": [],
   "source": [
    "from IPython.core.interactiveshell import InteractiveShell \n",
    "InteractiveShell.ast_node_interactivity = \"all\"\n",
    "\n",
    "import requests\n",
    "import pandas as pd\n",
    "import numpy as np\n",
    "from datetime import datetime"
   ]
  },
  {
   "cell_type": "code",
   "execution_count": null,
   "metadata": {},
   "outputs": [],
   "source": [
    "#pd.options.display.float_format = '{:.2f}'.format"
   ]
  },
  {
   "cell_type": "code",
   "execution_count": null,
   "metadata": {},
   "outputs": [],
   "source": [
    "class Energias:\n",
    "\n",
    "    def __init__(self, inicio, fin):\n",
    "        self.inicio =  inicio\n",
    "        self.fin = fin\n",
    "\n",
    "    def extraer_tipos(self):\n",
    "        datos_energia = pd.DataFrame()\n",
    "        for i in range(self.inicio, self.fin):\n",
    "            url = f\"https://apidatos.ree.es/es/datos/generacion/evolucion-renovable-no-renovable?start_date={i}-01-01T00:00&end_date={i}-12-31T23:59&time_trunc=year\"\n",
    "            response = requests.get(url=url)\n",
    "            datos = response.json()\n",
    "\n",
    "            for e in range(len(datos[\"included\"])):\n",
    "                x = pd.DataFrame(datos[\"included\"][e][\"attributes\"][\"values\"])\n",
    "                x[\"tipo_energia\"] = datos[\"included\"][e][\"attributes\"][\"title\"]\n",
    "\n",
    "                datos_energia = pd.concat([datos_energia, x], axis=0, ignore_index = True)\n",
    "\n",
    "        return datos_energia\n",
    "    \n",
    "    def energia_comunidades(self, claves):\n",
    "        self.claves = claves\n",
    "        datos_energia = pd.DataFrame()\n",
    "        for i in range(self.inicio, self.fin):\n",
    "            for k,v in claves.items():\n",
    "                url = f\"https://apidatos.ree.es/es/datos/generacion/evolucion-renovable-no-renovable?start_date={i}-01-01T00:00&end_date={i}-12-31T23:59&time_trunc=year&geo_trunc=electric_system&geo_limit=ccaa&geo_ids={v}\"\n",
    "                response = requests.get(url=url)\n",
    "                datos = response.json()\n",
    "\n",
    "                for e in range(len(datos[\"included\"])):\n",
    "                    x = pd.DataFrame(datos[\"included\"][e][\"attributes\"][\"values\"])\n",
    "                    x[\"tipo_energia\"] = datos[\"included\"][e][\"attributes\"][\"title\"]\n",
    "                    x[\"comunidad\"] = k\n",
    "                    x[\"cod_comunidad\"] = v\n",
    "\n",
    "                    datos_energia = pd.concat([datos_energia, x], axis=0, ignore_index = True)\n",
    "\n",
    "        return datos_energia\n",
    "    \n",
    "    def redondear_valores(self, df):\n",
    "        self.df =df\n",
    "        df[\"value\"] = round(df[\"value\"], 2)\n",
    "        df[\"percentage\"] = round(df[\"percentage\"], 2)\n",
    "        return df \n",
    "    \n",
    "    def sacar_fecha(self, df):\n",
    "        self.df =df\n",
    "        df[\"fecha\"] = df[\"datetime\"]\n",
    "        df[\"fecha\"] = df[\"fecha\"].apply(lambda tiempo: tiempo.split(\"T\")[0])\n",
    "        df[\"fecha\"] = df[\"fecha\"].apply(pd.to_datetime)\n",
    "        #print(type(df[\"fecha\"]))\n",
    "        #df[\"fecha\"] = df[\"fecha\"].apply(datetime.strftime(\"%Y-%m-%d\"))\n",
    "        #return df \n",
    "    \n",
    "    def guardar_datos(self, df, ruta, nombre):\n",
    "        self.ruta = ruta\n",
    "        self.df =df\n",
    "        self.nombre = nombre\n",
    "\n",
    "        df.to_pickle(ruta + nombre + \".pkl\")\n",
    "        df.to_csv(ruta + nombre + \".csv\")"
   ]
  },
  {
   "cell_type": "code",
   "execution_count": null,
   "metadata": {},
   "outputs": [],
   "source": [
    "cod_comunidades = {'Ceuta': 8744,\n",
    "                    'Melilla': 8745,\n",
    "                    'Andalucía': 4,\n",
    "                    'Aragón': 5,\n",
    "                    'Cantabria': 6,\n",
    "                    'Castilla - La Mancha': 7,\n",
    "                    'Castilla y León': 8,\n",
    "                    'Cataluña': 9,\n",
    "                    'País Vasco': 10,\n",
    "                    'Principado de Asturias': 11,\n",
    "                    'Comunidad de Madrid': 13,\n",
    "                    'Comunidad Foral de Navarra': 14,\n",
    "                    'Comunitat Valenciana': 15,\n",
    "                    'Extremadura': 16,\n",
    "                    'Galicia': 17,\n",
    "                    'Illes Balears': 8743,\n",
    "                    'Canarias': 8742,\n",
    "                    'Región de Murcia': 21,\n",
    "                    'La Rioja': 20}"
   ]
  },
  {
   "cell_type": "code",
   "execution_count": null,
   "metadata": {},
   "outputs": [],
   "source": [
    "energy = Energias(2011, 2023)"
   ]
  },
  {
   "cell_type": "code",
   "execution_count": null,
   "metadata": {},
   "outputs": [],
   "source": [
    "energias_renovables = energy.extraer_tipos()"
   ]
  },
  {
   "cell_type": "code",
   "execution_count": null,
   "metadata": {},
   "outputs": [],
   "source": [
    "energias_renovables.head()"
   ]
  },
  {
   "cell_type": "code",
   "execution_count": null,
   "metadata": {},
   "outputs": [],
   "source": [
    "tipos_por_comunidades = energy.energia_comunidades(cod_comunidades)"
   ]
  },
  {
   "cell_type": "code",
   "execution_count": null,
   "metadata": {},
   "outputs": [],
   "source": [
    "tipos_por_comunidades.head()"
   ]
  },
  {
   "cell_type": "code",
   "execution_count": null,
   "metadata": {},
   "outputs": [],
   "source": [
    "energias_renovables_round = energy.redondear_valores(energias_renovables)"
   ]
  },
  {
   "cell_type": "code",
   "execution_count": null,
   "metadata": {},
   "outputs": [],
   "source": [
    "energias_renovables_round.head(1)"
   ]
  },
  {
   "cell_type": "code",
   "execution_count": null,
   "metadata": {},
   "outputs": [],
   "source": [
    "tipos_por_comunidades_round = energy.redondear_valores(tipos_por_comunidades)"
   ]
  },
  {
   "cell_type": "code",
   "execution_count": null,
   "metadata": {},
   "outputs": [],
   "source": [
    "tipos_por_comunidades_round.head()"
   ]
  },
  {
   "cell_type": "code",
   "execution_count": null,
   "metadata": {},
   "outputs": [],
   "source": [
    "energias_renovables_round[\"fecha\"].apply(lambda x: print(type(x)))"
   ]
  },
  {
   "cell_type": "code",
   "execution_count": null,
   "metadata": {},
   "outputs": [],
   "source": [
    "energias_renovables_fecha = energy.sacar_fecha(energias_renovables_round)"
   ]
  },
  {
   "cell_type": "code",
   "execution_count": null,
   "metadata": {},
   "outputs": [],
   "source": [
    "energias_renovables_fecha.head()"
   ]
  },
  {
   "cell_type": "code",
   "execution_count": null,
   "metadata": {},
   "outputs": [],
   "source": [
    "tipos_por_comunidades_fecha = energy.sacar_fecha(tipos_por_comunidades_round)"
   ]
  },
  {
   "cell_type": "code",
   "execution_count": null,
   "metadata": {},
   "outputs": [],
   "source": [
    "guardado_tipos = energy.guardar_datos(energias_renovables_fecha, \"datos/\", \"tipo_energia\")"
   ]
  },
  {
   "cell_type": "code",
   "execution_count": null,
   "metadata": {},
   "outputs": [],
   "source": [
    "guardado_comunidades = energy.guardar_datos(tipos_por_comunidades_fecha, \"datos/\", \"datos_comunidades\")"
   ]
  }
 ],
 "metadata": {
  "kernelspec": {
   "display_name": "base",
   "language": "python",
   "name": "python3"
  },
  "language_info": {
   "codemirror_mode": {
    "name": "ipython",
    "version": 3
   },
   "file_extension": ".py",
   "mimetype": "text/x-python",
   "name": "python",
   "nbconvert_exporter": "python",
   "pygments_lexer": "ipython3",
   "version": "3.9.7"
  },
  "orig_nbformat": 4
 },
 "nbformat": 4,
 "nbformat_minor": 2
}
