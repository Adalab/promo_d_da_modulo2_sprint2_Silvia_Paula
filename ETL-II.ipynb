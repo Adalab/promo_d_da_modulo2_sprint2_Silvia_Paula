{
 "cells": [
  {
   "cell_type": "code",
   "execution_count": 1,
   "metadata": {},
   "outputs": [],
   "source": [
    "import requests\n",
    "import pandas as pd\n",
    "import numpy as np\n",
    "from datetime import datetime as dt"
   ]
  },
  {
   "cell_type": "code",
   "execution_count": 15,
   "metadata": {},
   "outputs": [],
   "source": [
    "pd.options.display.float_format = '{:.2f}'.format"
   ]
  },
  {
   "attachments": {},
   "cell_type": "markdown",
   "metadata": {},
   "source": [
    "En la lección de hoy aprendimos como transformar nuestros datos para que estén preparados para almacearlos en una BBDD. En este momento tenemos dos fuentes de datos:\n",
    "1. El csv donde tenemos la información censal de cada Comunidad Autónoma tiene algunas columnas que no son redundantes para nuestro análisis, en este csv tendremos que:\n",
    "    - Eliminar la columna de Comunidades_y_Ciudades_Autónomas\n"
   ]
  },
  {
   "cell_type": "code",
   "execution_count": 2,
   "metadata": {},
   "outputs": [
    {
     "data": {
      "text/html": [
       "<div>\n",
       "<style scoped>\n",
       "    .dataframe tbody tr th:only-of-type {\n",
       "        vertical-align: middle;\n",
       "    }\n",
       "\n",
       "    .dataframe tbody tr th {\n",
       "        vertical-align: top;\n",
       "    }\n",
       "\n",
       "    .dataframe thead th {\n",
       "        text-align: right;\n",
       "    }\n",
       "</style>\n",
       "<table border=\"1\" class=\"dataframe\">\n",
       "  <thead>\n",
       "    <tr style=\"text-align: right;\">\n",
       "      <th></th>\n",
       "      <th>Comunidad</th>\n",
       "      <th>indice</th>\n",
       "      <th>Comunidades_y_Ciudades_Autónomas</th>\n",
       "      <th>Año</th>\n",
       "      <th>Total</th>\n",
       "    </tr>\n",
       "  </thead>\n",
       "  <tbody>\n",
       "    <tr>\n",
       "      <th>0</th>\n",
       "      <td>Ceuta</td>\n",
       "      <td>8744</td>\n",
       "      <td>Ceuta</td>\n",
       "      <td>2022</td>\n",
       "      <td>83.117</td>\n",
       "    </tr>\n",
       "  </tbody>\n",
       "</table>\n",
       "</div>"
      ],
      "text/plain": [
       "  Comunidad  indice Comunidades_y_Ciudades_Autónomas   Año   Total\n",
       "0     Ceuta    8744                            Ceuta  2022  83.117"
      ]
     },
     "execution_count": 2,
     "metadata": {},
     "output_type": "execute_result"
    }
   ],
   "source": [
    "df_comunidades = pd.read_csv(\"datos/poblacion_comunidades.csv\", index_col=0)\n",
    "df_comunidades.head(1)"
   ]
  },
  {
   "cell_type": "code",
   "execution_count": 3,
   "metadata": {},
   "outputs": [],
   "source": [
    "df_comunidades.drop(\"Comunidades_y_Ciudades_Autónomas\", axis= 1, inplace= True)"
   ]
  },
  {
   "cell_type": "code",
   "execution_count": 4,
   "metadata": {},
   "outputs": [
    {
     "data": {
      "text/html": [
       "<div>\n",
       "<style scoped>\n",
       "    .dataframe tbody tr th:only-of-type {\n",
       "        vertical-align: middle;\n",
       "    }\n",
       "\n",
       "    .dataframe tbody tr th {\n",
       "        vertical-align: top;\n",
       "    }\n",
       "\n",
       "    .dataframe thead th {\n",
       "        text-align: right;\n",
       "    }\n",
       "</style>\n",
       "<table border=\"1\" class=\"dataframe\">\n",
       "  <thead>\n",
       "    <tr style=\"text-align: right;\">\n",
       "      <th></th>\n",
       "      <th>Comunidad</th>\n",
       "      <th>indice</th>\n",
       "      <th>Año</th>\n",
       "      <th>Total</th>\n",
       "    </tr>\n",
       "  </thead>\n",
       "  <tbody>\n",
       "    <tr>\n",
       "      <th>0</th>\n",
       "      <td>Ceuta</td>\n",
       "      <td>8744</td>\n",
       "      <td>2022</td>\n",
       "      <td>83.117</td>\n",
       "    </tr>\n",
       "  </tbody>\n",
       "</table>\n",
       "</div>"
      ],
      "text/plain": [
       "  Comunidad  indice   Año   Total\n",
       "0     Ceuta    8744  2022  83.117"
      ]
     },
     "execution_count": 4,
     "metadata": {},
     "output_type": "execute_result"
    }
   ],
   "source": [
    "df_comunidades.head(1)"
   ]
  },
  {
   "cell_type": "markdown",
   "metadata": {},
   "source": [
    "2. En el csv con la información de generación de energías renovables y no renovables a nivel nacional deberéis:\n",
    "    - Para las columnas value y percentage, redondear los decimales de los valores a 2.\n"
   ]
  },
  {
   "cell_type": "code",
   "execution_count": 16,
   "metadata": {},
   "outputs": [
    {
     "data": {
      "text/html": [
       "<div>\n",
       "<style scoped>\n",
       "    .dataframe tbody tr th:only-of-type {\n",
       "        vertical-align: middle;\n",
       "    }\n",
       "\n",
       "    .dataframe tbody tr th {\n",
       "        vertical-align: top;\n",
       "    }\n",
       "\n",
       "    .dataframe thead th {\n",
       "        text-align: right;\n",
       "    }\n",
       "</style>\n",
       "<table border=\"1\" class=\"dataframe\">\n",
       "  <thead>\n",
       "    <tr style=\"text-align: right;\">\n",
       "      <th></th>\n",
       "      <th>value</th>\n",
       "      <th>percentage</th>\n",
       "      <th>datetime</th>\n",
       "      <th>tipo_energia</th>\n",
       "    </tr>\n",
       "  </thead>\n",
       "  <tbody>\n",
       "    <tr>\n",
       "      <th>0</th>\n",
       "      <td>86667052.85</td>\n",
       "      <td>0.31</td>\n",
       "      <td>2011-01-01T00:00:00.000+01:00</td>\n",
       "      <td>Renovable</td>\n",
       "    </tr>\n",
       "  </tbody>\n",
       "</table>\n",
       "</div>"
      ],
      "text/plain": [
       "        value  percentage                       datetime tipo_energia\n",
       "0 86667052.85        0.31  2011-01-01T00:00:00.000+01:00    Renovable"
      ]
     },
     "execution_count": 16,
     "metadata": {},
     "output_type": "execute_result"
    }
   ],
   "source": [
    "df = pd.read_csv(\"datos/tipos_energia.csv\", index_col= 0)\n",
    "df.head(1)"
   ]
  },
  {
   "cell_type": "code",
   "execution_count": 17,
   "metadata": {},
   "outputs": [
    {
     "data": {
      "text/html": [
       "<div>\n",
       "<style scoped>\n",
       "    .dataframe tbody tr th:only-of-type {\n",
       "        vertical-align: middle;\n",
       "    }\n",
       "\n",
       "    .dataframe tbody tr th {\n",
       "        vertical-align: top;\n",
       "    }\n",
       "\n",
       "    .dataframe thead th {\n",
       "        text-align: right;\n",
       "    }\n",
       "</style>\n",
       "<table border=\"1\" class=\"dataframe\">\n",
       "  <thead>\n",
       "    <tr style=\"text-align: right;\">\n",
       "      <th></th>\n",
       "      <th>value</th>\n",
       "      <th>percentage</th>\n",
       "      <th>datetime</th>\n",
       "      <th>tipo_energia</th>\n",
       "    </tr>\n",
       "  </thead>\n",
       "  <tbody>\n",
       "    <tr>\n",
       "      <th>0</th>\n",
       "      <td>86667052.85</td>\n",
       "      <td>0.31</td>\n",
       "      <td>2011-01-01T00:00:00.000+01:00</td>\n",
       "      <td>Renovable</td>\n",
       "    </tr>\n",
       "    <tr>\n",
       "      <th>1</th>\n",
       "      <td>192686769.35</td>\n",
       "      <td>0.69</td>\n",
       "      <td>2011-01-01T00:00:00.000+01:00</td>\n",
       "      <td>No renovable</td>\n",
       "    </tr>\n",
       "  </tbody>\n",
       "</table>\n",
       "</div>"
      ],
      "text/plain": [
       "         value  percentage                       datetime  tipo_energia\n",
       "0  86667052.85        0.31  2011-01-01T00:00:00.000+01:00     Renovable\n",
       "1 192686769.35        0.69  2011-01-01T00:00:00.000+01:00  No renovable"
      ]
     },
     "execution_count": 17,
     "metadata": {},
     "output_type": "execute_result"
    }
   ],
   "source": [
    "df[\"value\"] = round(df[\"value\"], 2)\n",
    "df[\"percentage\"] = round(df[\"percentage\"], 2)\n",
    "df.head(2)"
   ]
  },
  {
   "cell_type": "code",
   "execution_count": 14,
   "metadata": {},
   "outputs": [
    {
     "data": {
      "text/html": [
       "<div>\n",
       "<style scoped>\n",
       "    .dataframe tbody tr th:only-of-type {\n",
       "        vertical-align: middle;\n",
       "    }\n",
       "\n",
       "    .dataframe tbody tr th {\n",
       "        vertical-align: top;\n",
       "    }\n",
       "\n",
       "    .dataframe thead th {\n",
       "        text-align: right;\n",
       "    }\n",
       "</style>\n",
       "<table border=\"1\" class=\"dataframe\">\n",
       "  <thead>\n",
       "    <tr style=\"text-align: right;\">\n",
       "      <th></th>\n",
       "      <th>value</th>\n",
       "      <th>percentage</th>\n",
       "      <th>datetime</th>\n",
       "      <th>tipo_energia</th>\n",
       "    </tr>\n",
       "  </thead>\n",
       "  <tbody>\n",
       "    <tr>\n",
       "      <th>0</th>\n",
       "      <td>86667052.85</td>\n",
       "      <td>0.31</td>\n",
       "      <td>2011-01-01T00:00:00.000+01:00</td>\n",
       "      <td>Renovable</td>\n",
       "    </tr>\n",
       "  </tbody>\n",
       "</table>\n",
       "</div>"
      ],
      "text/plain": [
       "         value  percentage                       datetime tipo_energia\n",
       "0  86667052.85        0.31  2011-01-01T00:00:00.000+01:00    Renovable"
      ]
     },
     "execution_count": 14,
     "metadata": {},
     "output_type": "execute_result"
    }
   ],
   "source": [
    "df.head(1)"
   ]
  },
  {
   "cell_type": "code",
   "execution_count": 12,
   "metadata": {},
   "outputs": [
    {
     "data": {
      "text/plain": [
       "value                            110605198.34\n",
       "percentage                               0.44\n",
       "datetime        2020-01-01T00:00:00.000+01:00\n",
       "tipo_energia                        Renovable\n",
       "Name: 18, dtype: object"
      ]
     },
     "execution_count": 12,
     "metadata": {},
     "output_type": "execute_result"
    }
   ],
   "source": [
    "df.iloc[18]"
   ]
  },
  {
   "cell_type": "code",
   "execution_count": 9,
   "metadata": {},
   "outputs": [
    {
     "data": {
      "text/html": [
       "<div>\n",
       "<style scoped>\n",
       "    .dataframe tbody tr th:only-of-type {\n",
       "        vertical-align: middle;\n",
       "    }\n",
       "\n",
       "    .dataframe tbody tr th {\n",
       "        vertical-align: top;\n",
       "    }\n",
       "\n",
       "    .dataframe thead th {\n",
       "        text-align: right;\n",
       "    }\n",
       "</style>\n",
       "<table border=\"1\" class=\"dataframe\">\n",
       "  <thead>\n",
       "    <tr style=\"text-align: right;\">\n",
       "      <th></th>\n",
       "      <th>value</th>\n",
       "      <th>percentage</th>\n",
       "      <th>datetime</th>\n",
       "      <th>tipo_energia</th>\n",
       "    </tr>\n",
       "  </thead>\n",
       "  <tbody>\n",
       "    <tr>\n",
       "      <th>9</th>\n",
       "      <td>1.733657e+08</td>\n",
       "      <td>0.65</td>\n",
       "      <td>2015-01-01T00:00:00.000+01:00</td>\n",
       "      <td>No renovable</td>\n",
       "    </tr>\n",
       "    <tr>\n",
       "      <th>18</th>\n",
       "      <td>1.106052e+08</td>\n",
       "      <td>0.44</td>\n",
       "      <td>2020-01-01T00:00:00.000+01:00</td>\n",
       "      <td>Renovable</td>\n",
       "    </tr>\n",
       "    <tr>\n",
       "      <th>20</th>\n",
       "      <td>1.214591e+08</td>\n",
       "      <td>0.47</td>\n",
       "      <td>2021-01-01T00:00:00.000+01:00</td>\n",
       "      <td>Renovable</td>\n",
       "    </tr>\n",
       "    <tr>\n",
       "      <th>22</th>\n",
       "      <td>1.165831e+08</td>\n",
       "      <td>0.42</td>\n",
       "      <td>2022-01-01T00:00:00.000+01:00</td>\n",
       "      <td>Renovable</td>\n",
       "    </tr>\n",
       "    <tr>\n",
       "      <th>0</th>\n",
       "      <td>8.666705e+07</td>\n",
       "      <td>0.31</td>\n",
       "      <td>2011-01-01T00:00:00.000+01:00</td>\n",
       "      <td>Renovable</td>\n",
       "    </tr>\n",
       "    <tr>\n",
       "      <th>6</th>\n",
       "      <td>1.078761e+08</td>\n",
       "      <td>0.40</td>\n",
       "      <td>2014-01-01T00:00:00.000+01:00</td>\n",
       "      <td>Renovable</td>\n",
       "    </tr>\n",
       "    <tr>\n",
       "      <th>13</th>\n",
       "      <td>1.776949e+08</td>\n",
       "      <td>0.68</td>\n",
       "      <td>2017-01-01T00:00:00.000+01:00</td>\n",
       "      <td>No renovable</td>\n",
       "    </tr>\n",
       "    <tr>\n",
       "      <th>14</th>\n",
       "      <td>1.003444e+08</td>\n",
       "      <td>0.38</td>\n",
       "      <td>2018-01-01T00:00:00.000+01:00</td>\n",
       "      <td>Renovable</td>\n",
       "    </tr>\n",
       "    <tr>\n",
       "      <th>15</th>\n",
       "      <td>1.606375e+08</td>\n",
       "      <td>0.62</td>\n",
       "      <td>2018-01-01T00:00:00.000+01:00</td>\n",
       "      <td>No renovable</td>\n",
       "    </tr>\n",
       "    <tr>\n",
       "      <th>10</th>\n",
       "      <td>1.010892e+08</td>\n",
       "      <td>0.39</td>\n",
       "      <td>2016-01-01T00:00:00.000+01:00</td>\n",
       "      <td>Renovable</td>\n",
       "    </tr>\n",
       "    <tr>\n",
       "      <th>2</th>\n",
       "      <td>8.533872e+07</td>\n",
       "      <td>0.30</td>\n",
       "      <td>2012-01-01T00:00:00.000+01:00</td>\n",
       "      <td>Renovable</td>\n",
       "    </tr>\n",
       "    <tr>\n",
       "      <th>23</th>\n",
       "      <td>1.597322e+08</td>\n",
       "      <td>0.58</td>\n",
       "      <td>2022-01-01T00:00:00.000+01:00</td>\n",
       "      <td>No renovable</td>\n",
       "    </tr>\n",
       "    <tr>\n",
       "      <th>8</th>\n",
       "      <td>9.408811e+07</td>\n",
       "      <td>0.35</td>\n",
       "      <td>2015-01-01T00:00:00.000+01:00</td>\n",
       "      <td>Renovable</td>\n",
       "    </tr>\n",
       "    <tr>\n",
       "      <th>3</th>\n",
       "      <td>1.977799e+08</td>\n",
       "      <td>0.70</td>\n",
       "      <td>2012-01-01T00:00:00.000+01:00</td>\n",
       "      <td>No renovable</td>\n",
       "    </tr>\n",
       "    <tr>\n",
       "      <th>17</th>\n",
       "      <td>1.629155e+08</td>\n",
       "      <td>0.62</td>\n",
       "      <td>2019-01-01T00:00:00.000+01:00</td>\n",
       "      <td>No renovable</td>\n",
       "    </tr>\n",
       "    <tr>\n",
       "      <th>11</th>\n",
       "      <td>1.607465e+08</td>\n",
       "      <td>0.61</td>\n",
       "      <td>2016-01-01T00:00:00.000+01:00</td>\n",
       "      <td>No renovable</td>\n",
       "    </tr>\n",
       "    <tr>\n",
       "      <th>21</th>\n",
       "      <td>1.385520e+08</td>\n",
       "      <td>0.53</td>\n",
       "      <td>2021-01-01T00:00:00.000+01:00</td>\n",
       "      <td>No renovable</td>\n",
       "    </tr>\n",
       "    <tr>\n",
       "      <th>7</th>\n",
       "      <td>1.586356e+08</td>\n",
       "      <td>0.60</td>\n",
       "      <td>2014-01-01T00:00:00.000+01:00</td>\n",
       "      <td>No renovable</td>\n",
       "    </tr>\n",
       "    <tr>\n",
       "      <th>12</th>\n",
       "      <td>8.461087e+07</td>\n",
       "      <td>0.32</td>\n",
       "      <td>2017-01-01T00:00:00.000+01:00</td>\n",
       "      <td>Renovable</td>\n",
       "    </tr>\n",
       "    <tr>\n",
       "      <th>5</th>\n",
       "      <td>1.635286e+08</td>\n",
       "      <td>0.60</td>\n",
       "      <td>2013-01-01T00:00:00.000+01:00</td>\n",
       "      <td>No renovable</td>\n",
       "    </tr>\n",
       "  </tbody>\n",
       "</table>\n",
       "</div>"
      ],
      "text/plain": [
       "           value  percentage                       datetime  tipo_energia\n",
       "9   1.733657e+08        0.65  2015-01-01T00:00:00.000+01:00  No renovable\n",
       "18  1.106052e+08        0.44  2020-01-01T00:00:00.000+01:00     Renovable\n",
       "20  1.214591e+08        0.47  2021-01-01T00:00:00.000+01:00     Renovable\n",
       "22  1.165831e+08        0.42  2022-01-01T00:00:00.000+01:00     Renovable\n",
       "0   8.666705e+07        0.31  2011-01-01T00:00:00.000+01:00     Renovable\n",
       "6   1.078761e+08        0.40  2014-01-01T00:00:00.000+01:00     Renovable\n",
       "13  1.776949e+08        0.68  2017-01-01T00:00:00.000+01:00  No renovable\n",
       "14  1.003444e+08        0.38  2018-01-01T00:00:00.000+01:00     Renovable\n",
       "15  1.606375e+08        0.62  2018-01-01T00:00:00.000+01:00  No renovable\n",
       "10  1.010892e+08        0.39  2016-01-01T00:00:00.000+01:00     Renovable\n",
       "2   8.533872e+07        0.30  2012-01-01T00:00:00.000+01:00     Renovable\n",
       "23  1.597322e+08        0.58  2022-01-01T00:00:00.000+01:00  No renovable\n",
       "8   9.408811e+07        0.35  2015-01-01T00:00:00.000+01:00     Renovable\n",
       "3   1.977799e+08        0.70  2012-01-01T00:00:00.000+01:00  No renovable\n",
       "17  1.629155e+08        0.62  2019-01-01T00:00:00.000+01:00  No renovable\n",
       "11  1.607465e+08        0.61  2016-01-01T00:00:00.000+01:00  No renovable\n",
       "21  1.385520e+08        0.53  2021-01-01T00:00:00.000+01:00  No renovable\n",
       "7   1.586356e+08        0.60  2014-01-01T00:00:00.000+01:00  No renovable\n",
       "12  8.461087e+07        0.32  2017-01-01T00:00:00.000+01:00     Renovable\n",
       "5   1.635286e+08        0.60  2013-01-01T00:00:00.000+01:00  No renovable"
      ]
     },
     "execution_count": 9,
     "metadata": {},
     "output_type": "execute_result"
    }
   ],
   "source": [
    "df.sample(20)"
   ]
  },
  {
   "cell_type": "markdown",
   "metadata": {},
   "source": [
    "    - La columna datetime es de tipo string, pero esto a nosotras no nos interesa. Además, en esta columna tiene tanto la fecha como la hora, pero en realidad la hora no nos esta aportando nada de información, es por esto que:\n",
    "        - Deberéis crear una columna nueva donde solo tengamos la información de la fecha en formato AÑO / MES / DIA.\n",
    "        - Una vez creada la columna anterior, convertirla a datetime.\n"
   ]
  },
  {
   "cell_type": "code",
   "execution_count": 14,
   "metadata": {},
   "outputs": [],
   "source": [
    "df[\"fecha\"] = df[\"datetime\"]"
   ]
  },
  {
   "cell_type": "code",
   "execution_count": 17,
   "metadata": {},
   "outputs": [],
   "source": [
    "df[\"fecha\"] = df[\"fecha\"].apply(lambda tiempo: tiempo.split(\"T\")[0])\n",
    "df[\"fecha\"] = df[\"fecha\"].apply(pd.to_datetime)"
   ]
  },
  {
   "cell_type": "code",
   "execution_count": 18,
   "metadata": {},
   "outputs": [
    {
     "data": {
      "text/html": [
       "<div>\n",
       "<style scoped>\n",
       "    .dataframe tbody tr th:only-of-type {\n",
       "        vertical-align: middle;\n",
       "    }\n",
       "\n",
       "    .dataframe tbody tr th {\n",
       "        vertical-align: top;\n",
       "    }\n",
       "\n",
       "    .dataframe thead th {\n",
       "        text-align: right;\n",
       "    }\n",
       "</style>\n",
       "<table border=\"1\" class=\"dataframe\">\n",
       "  <thead>\n",
       "    <tr style=\"text-align: right;\">\n",
       "      <th></th>\n",
       "      <th>value</th>\n",
       "      <th>percentage</th>\n",
       "      <th>datetime</th>\n",
       "      <th>tipo_energia</th>\n",
       "      <th>fecha</th>\n",
       "    </tr>\n",
       "  </thead>\n",
       "  <tbody>\n",
       "    <tr>\n",
       "      <th>0</th>\n",
       "      <td>8.666705e+07</td>\n",
       "      <td>0.31</td>\n",
       "      <td>2011-01-01T00:00:00.000+01:00</td>\n",
       "      <td>Renovable</td>\n",
       "      <td>2011-01-01</td>\n",
       "    </tr>\n",
       "    <tr>\n",
       "      <th>1</th>\n",
       "      <td>1.926868e+08</td>\n",
       "      <td>0.69</td>\n",
       "      <td>2011-01-01T00:00:00.000+01:00</td>\n",
       "      <td>No renovable</td>\n",
       "      <td>2011-01-01</td>\n",
       "    </tr>\n",
       "  </tbody>\n",
       "</table>\n",
       "</div>"
      ],
      "text/plain": [
       "          value  percentage                       datetime  tipo_energia  \\\n",
       "0  8.666705e+07        0.31  2011-01-01T00:00:00.000+01:00     Renovable   \n",
       "1  1.926868e+08        0.69  2011-01-01T00:00:00.000+01:00  No renovable   \n",
       "\n",
       "       fecha  \n",
       "0 2011-01-01  \n",
       "1 2011-01-01  "
      ]
     },
     "execution_count": 18,
     "metadata": {},
     "output_type": "execute_result"
    }
   ],
   "source": [
    "df.head(2)"
   ]
  },
  {
   "cell_type": "code",
   "execution_count": 19,
   "metadata": {},
   "outputs": [
    {
     "data": {
      "text/plain": [
       "value                  float64\n",
       "percentage             float64\n",
       "datetime                object\n",
       "tipo_energia            object\n",
       "fecha           datetime64[ns]\n",
       "dtype: object"
      ]
     },
     "execution_count": 19,
     "metadata": {},
     "output_type": "execute_result"
    }
   ],
   "source": [
    "df.dtypes"
   ]
  },
  {
   "cell_type": "markdown",
   "metadata": {},
   "source": [
    "3. En el csv con la información de generación de energías renovables y no renovables a nivel de comunidad autónoma deberéis aplicar los mismos cambios que aplicamos en el ejercicio anterior.\n"
   ]
  },
  {
   "cell_type": "code",
   "execution_count": 20,
   "metadata": {},
   "outputs": [
    {
     "data": {
      "text/html": [
       "<div>\n",
       "<style scoped>\n",
       "    .dataframe tbody tr th:only-of-type {\n",
       "        vertical-align: middle;\n",
       "    }\n",
       "\n",
       "    .dataframe tbody tr th {\n",
       "        vertical-align: top;\n",
       "    }\n",
       "\n",
       "    .dataframe thead th {\n",
       "        text-align: right;\n",
       "    }\n",
       "</style>\n",
       "<table border=\"1\" class=\"dataframe\">\n",
       "  <thead>\n",
       "    <tr style=\"text-align: right;\">\n",
       "      <th></th>\n",
       "      <th>value</th>\n",
       "      <th>percentage</th>\n",
       "      <th>datetime</th>\n",
       "      <th>tipo_energia</th>\n",
       "      <th>comunidad</th>\n",
       "      <th>cod_comunidad</th>\n",
       "    </tr>\n",
       "  </thead>\n",
       "  <tbody>\n",
       "    <tr>\n",
       "      <th>0</th>\n",
       "      <td>202972.8930</td>\n",
       "      <td>1.000000</td>\n",
       "      <td>2011-01-01T00:00:00.000+01:00</td>\n",
       "      <td>No renovable</td>\n",
       "      <td>Ceuta</td>\n",
       "      <td>8744</td>\n",
       "    </tr>\n",
       "    <tr>\n",
       "      <th>1</th>\n",
       "      <td>3589.0825</td>\n",
       "      <td>0.016703</td>\n",
       "      <td>2011-01-01T00:00:00.000+01:00</td>\n",
       "      <td>Renovable</td>\n",
       "      <td>Melilla</td>\n",
       "      <td>8745</td>\n",
       "    </tr>\n",
       "  </tbody>\n",
       "</table>\n",
       "</div>"
      ],
      "text/plain": [
       "         value  percentage                       datetime  tipo_energia  \\\n",
       "0  202972.8930    1.000000  2011-01-01T00:00:00.000+01:00  No renovable   \n",
       "1    3589.0825    0.016703  2011-01-01T00:00:00.000+01:00     Renovable   \n",
       "\n",
       "  comunidad  cod_comunidad  \n",
       "0     Ceuta           8744  \n",
       "1   Melilla           8745  "
      ]
     },
     "execution_count": 20,
     "metadata": {},
     "output_type": "execute_result"
    }
   ],
   "source": [
    "df_energia_com = pd.read_csv(\"datos/energia_comunidades.csv\", index_col= 0)\n",
    "df_energia_com.head(2)"
   ]
  },
  {
   "cell_type": "code",
   "execution_count": 21,
   "metadata": {},
   "outputs": [
    {
     "data": {
      "text/html": [
       "<div>\n",
       "<style scoped>\n",
       "    .dataframe tbody tr th:only-of-type {\n",
       "        vertical-align: middle;\n",
       "    }\n",
       "\n",
       "    .dataframe tbody tr th {\n",
       "        vertical-align: top;\n",
       "    }\n",
       "\n",
       "    .dataframe thead th {\n",
       "        text-align: right;\n",
       "    }\n",
       "</style>\n",
       "<table border=\"1\" class=\"dataframe\">\n",
       "  <thead>\n",
       "    <tr style=\"text-align: right;\">\n",
       "      <th></th>\n",
       "      <th>value</th>\n",
       "      <th>percentage</th>\n",
       "      <th>datetime</th>\n",
       "      <th>tipo_energia</th>\n",
       "      <th>comunidad</th>\n",
       "      <th>cod_comunidad</th>\n",
       "    </tr>\n",
       "  </thead>\n",
       "  <tbody>\n",
       "    <tr>\n",
       "      <th>0</th>\n",
       "      <td>202972.89</td>\n",
       "      <td>1.00</td>\n",
       "      <td>2011-01-01T00:00:00.000+01:00</td>\n",
       "      <td>No renovable</td>\n",
       "      <td>Ceuta</td>\n",
       "      <td>8744</td>\n",
       "    </tr>\n",
       "    <tr>\n",
       "      <th>1</th>\n",
       "      <td>3589.08</td>\n",
       "      <td>0.02</td>\n",
       "      <td>2011-01-01T00:00:00.000+01:00</td>\n",
       "      <td>Renovable</td>\n",
       "      <td>Melilla</td>\n",
       "      <td>8745</td>\n",
       "    </tr>\n",
       "  </tbody>\n",
       "</table>\n",
       "</div>"
      ],
      "text/plain": [
       "       value  percentage                       datetime  tipo_energia  \\\n",
       "0  202972.89        1.00  2011-01-01T00:00:00.000+01:00  No renovable   \n",
       "1    3589.08        0.02  2011-01-01T00:00:00.000+01:00     Renovable   \n",
       "\n",
       "  comunidad  cod_comunidad  \n",
       "0     Ceuta           8744  \n",
       "1   Melilla           8745  "
      ]
     },
     "execution_count": 21,
     "metadata": {},
     "output_type": "execute_result"
    }
   ],
   "source": [
    "df_energia_com[\"value\"] = round(df_energia_com[\"value\"], 2)\n",
    "df_energia_com[\"percentage\"] = round(df_energia_com[\"percentage\"], 2)\n",
    "df_energia_com.head(2)"
   ]
  },
  {
   "cell_type": "code",
   "execution_count": 22,
   "metadata": {},
   "outputs": [
    {
     "data": {
      "text/html": [
       "<div>\n",
       "<style scoped>\n",
       "    .dataframe tbody tr th:only-of-type {\n",
       "        vertical-align: middle;\n",
       "    }\n",
       "\n",
       "    .dataframe tbody tr th {\n",
       "        vertical-align: top;\n",
       "    }\n",
       "\n",
       "    .dataframe thead th {\n",
       "        text-align: right;\n",
       "    }\n",
       "</style>\n",
       "<table border=\"1\" class=\"dataframe\">\n",
       "  <thead>\n",
       "    <tr style=\"text-align: right;\">\n",
       "      <th></th>\n",
       "      <th>value</th>\n",
       "      <th>percentage</th>\n",
       "      <th>datetime</th>\n",
       "      <th>tipo_energia</th>\n",
       "      <th>comunidad</th>\n",
       "      <th>cod_comunidad</th>\n",
       "      <th>fecha</th>\n",
       "    </tr>\n",
       "  </thead>\n",
       "  <tbody>\n",
       "    <tr>\n",
       "      <th>0</th>\n",
       "      <td>202972.89</td>\n",
       "      <td>1.00</td>\n",
       "      <td>2011-01-01T00:00:00.000+01:00</td>\n",
       "      <td>No renovable</td>\n",
       "      <td>Ceuta</td>\n",
       "      <td>8744</td>\n",
       "      <td>2011-01-01</td>\n",
       "    </tr>\n",
       "    <tr>\n",
       "      <th>1</th>\n",
       "      <td>3589.08</td>\n",
       "      <td>0.02</td>\n",
       "      <td>2011-01-01T00:00:00.000+01:00</td>\n",
       "      <td>Renovable</td>\n",
       "      <td>Melilla</td>\n",
       "      <td>8745</td>\n",
       "      <td>2011-01-01</td>\n",
       "    </tr>\n",
       "  </tbody>\n",
       "</table>\n",
       "</div>"
      ],
      "text/plain": [
       "       value  percentage                       datetime  tipo_energia  \\\n",
       "0  202972.89        1.00  2011-01-01T00:00:00.000+01:00  No renovable   \n",
       "1    3589.08        0.02  2011-01-01T00:00:00.000+01:00     Renovable   \n",
       "\n",
       "  comunidad  cod_comunidad      fecha  \n",
       "0     Ceuta           8744 2011-01-01  \n",
       "1   Melilla           8745 2011-01-01  "
      ]
     },
     "execution_count": 22,
     "metadata": {},
     "output_type": "execute_result"
    }
   ],
   "source": [
    "df_energia_com[\"fecha\"] = df_energia_com[\"datetime\"]\n",
    "df_energia_com[\"fecha\"] = df_energia_com[\"fecha\"].apply(lambda tiempo: tiempo.split(\"T\")[0])\n",
    "df_energia_com[\"fecha\"] = df_energia_com[\"fecha\"].apply(pd.to_datetime)\n",
    "df_energia_com.head(2)"
   ]
  },
  {
   "attachments": {},
   "cell_type": "markdown",
   "metadata": {},
   "source": [
    "- Guardar los resultados obtenidos en pickle que usaremos en próximos ejercicios de pair programming. Cada fichero debe ir en un pickle"
   ]
  },
  {
   "cell_type": "code",
   "execution_count": 23,
   "metadata": {},
   "outputs": [],
   "source": [
    "df.to_pickle('datos/tipos_energia_pick.pkl')\n",
    "df_energia_com.to_pickle('datos/energia_comunidades_pick.pkl')"
   ]
  }
 ],
 "metadata": {
  "kernelspec": {
   "display_name": "base",
   "language": "python",
   "name": "python3"
  },
  "language_info": {
   "codemirror_mode": {
    "name": "ipython",
    "version": 3
   },
   "file_extension": ".py",
   "mimetype": "text/x-python",
   "name": "python",
   "nbconvert_exporter": "python",
   "pygments_lexer": "ipython3",
   "version": "3.9.7"
  },
  "orig_nbformat": 4
 },
 "nbformat": 4,
 "nbformat_minor": 2
}
