{
 "cells": [
  {
   "attachments": {},
   "cell_type": "markdown",
   "metadata": {},
   "source": [
    "Columnas loan, housing y default: estas columnas contienen valores únicos de 0 y 1. Esto puede parecer poco intuitivo a la hora de la extracción de conclusiones y en las visualizaciones.\n",
    "\n",
    "El objetivo de este ejercicio es que cambies los valores númericos por \"Si\" y \"No\". A que corresponde cada uno de los valores lo tenéis en el pair de Limpieza I."
   ]
  },
  {
   "cell_type": "code",
   "execution_count": null,
   "metadata": {},
   "outputs": [],
   "source": []
  },
  {
   "attachments": {},
   "cell_type": "markdown",
   "metadata": {},
   "source": [
    "Para la columna de education, si nos fijamos en sus valores únicos veremos que tenemos puntos. \n",
    "\n",
    "El objetivo de este ejercicio es que quitéis los puntos de esos valores y los reemplacéis por espacios."
   ]
  },
  {
   "cell_type": "code",
   "execution_count": null,
   "metadata": {},
   "outputs": [],
   "source": []
  },
  {
   "attachments": {},
   "cell_type": "markdown",
   "metadata": {},
   "source": [
    "Para la columna job, hay un valor único que esta abreviado (admin.), cambiad la abreviatura por el nombre completo."
   ]
  },
  {
   "cell_type": "code",
   "execution_count": null,
   "metadata": {},
   "outputs": [],
   "source": []
  },
  {
   "attachments": {},
   "cell_type": "markdown",
   "metadata": {},
   "source": [
    "La columna month_day_week tiene una lista que contiene información muy diferente. \n",
    "\n",
    "El objetivo de este ejercicio es separar esta columna en dos nuevas, donde tengamos los meses en una columna y los días de la semana en otra."
   ]
  },
  {
   "cell_type": "code",
   "execution_count": null,
   "metadata": {},
   "outputs": [],
   "source": []
  },
  {
   "attachments": {},
   "cell_type": "markdown",
   "metadata": {},
   "source": [
    "Guarda el csv con las columnas limpias para seguir trabajando con este dataframe limpio."
   ]
  },
  {
   "cell_type": "code",
   "execution_count": null,
   "metadata": {},
   "outputs": [],
   "source": []
  }
 ],
 "metadata": {
  "kernelspec": {
   "display_name": "base",
   "language": "python",
   "name": "python3"
  },
  "language_info": {
   "name": "python",
   "version": "3.9.7"
  },
  "orig_nbformat": 4
 },
 "nbformat": 4,
 "nbformat_minor": 2
}
