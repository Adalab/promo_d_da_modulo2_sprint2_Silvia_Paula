{
 "cells": [
  {
   "cell_type": "code",
   "execution_count": 1,
   "metadata": {},
   "outputs": [],
   "source": [
    "from IPython.core.interactiveshell import InteractiveShell \n",
    "InteractiveShell.ast_node_interactivity = \"all\"\n",
    "\n",
    "import requests\n",
    "import pandas as pd\n",
    "import numpy as np"
   ]
  },
  {
   "attachments": {},
   "cell_type": "markdown",
   "metadata": {},
   "source": [
    "Nuestros jefes están especialmente interesados en los datos de generación de las energías renovables y no renovables a nivel nacional. \n",
    "\n",
    "En concreto, nos piden sacar toda la información para las fechas de 1 de Enero del 2011 hasta el 31 de Diciembre del 2022. De toda la información que tenemos de generación queremos la evolucion de renovable y no renovable. \n",
    "\n",
    "Además deberemos incluir una columna nueva identificando si el dato corresponde a energía renovable o no renovable. \n",
    "\n",
    "\n",
    "NOTA: nos piden que el código debe estar en una función. Al final deberemos tener un dataframe"
   ]
  },
  {
   "attachments": {},
   "cell_type": "markdown",
   "metadata": {},
   "source": [
    "Creamos un dataframe vacío para añadir los valores."
   ]
  },
  {
   "cell_type": "code",
   "execution_count": 62,
   "metadata": {},
   "outputs": [],
   "source": [
    "def renovables(inicio, fin):\n",
    "    datos_energia = pd.DataFrame()\n",
    "    for i in range(inicio, fin):\n",
    "        url = f\"https://apidatos.ree.es/es/datos/generacion/evolucion-renovable-no-renovable?start_date={i}-01-01T00:00&end_date={i}-12-31T23:59&time_trunc=year\"\n",
    "        response = requests.get(url=url)\n",
    "        datos = response.json()\n",
    "\n",
    "        for e in range(len(datos[\"included\"])):\n",
    "            x = pd.DataFrame(datos[\"included\"][e][\"attributes\"][\"values\"])\n",
    "            x[\"tipo_energia\"] = datos[\"included\"][e][\"attributes\"][\"title\"]\n",
    "\n",
    "            datos_energia = pd.concat([datos_energia, x], axis=0, ignore_index = True)\n",
    "\n",
    "    return datos_energia"
   ]
  },
  {
   "cell_type": "code",
   "execution_count": 63,
   "metadata": {},
   "outputs": [],
   "source": [
    "datos_tipos_energia = renovables(2011, 2023)"
   ]
  },
  {
   "cell_type": "code",
   "execution_count": 65,
   "metadata": {},
   "outputs": [
    {
     "data": {
      "text/html": [
       "<div>\n",
       "<style scoped>\n",
       "    .dataframe tbody tr th:only-of-type {\n",
       "        vertical-align: middle;\n",
       "    }\n",
       "\n",
       "    .dataframe tbody tr th {\n",
       "        vertical-align: top;\n",
       "    }\n",
       "\n",
       "    .dataframe thead th {\n",
       "        text-align: right;\n",
       "    }\n",
       "</style>\n",
       "<table border=\"1\" class=\"dataframe\">\n",
       "  <thead>\n",
       "    <tr style=\"text-align: right;\">\n",
       "      <th></th>\n",
       "      <th>value</th>\n",
       "      <th>percentage</th>\n",
       "      <th>datetime</th>\n",
       "      <th>tipo_energia</th>\n",
       "    </tr>\n",
       "  </thead>\n",
       "  <tbody>\n",
       "    <tr>\n",
       "      <th>1</th>\n",
       "      <td>1.926868e+08</td>\n",
       "      <td>0.689759</td>\n",
       "      <td>2011-01-01T00:00:00.000+01:00</td>\n",
       "      <td>No renovable</td>\n",
       "    </tr>\n",
       "    <tr>\n",
       "      <th>4</th>\n",
       "      <td>1.097577e+08</td>\n",
       "      <td>0.401622</td>\n",
       "      <td>2013-01-01T00:00:00.000+01:00</td>\n",
       "      <td>Renovable</td>\n",
       "    </tr>\n",
       "    <tr>\n",
       "      <th>11</th>\n",
       "      <td>1.607465e+08</td>\n",
       "      <td>0.613921</td>\n",
       "      <td>2016-01-01T00:00:00.000+01:00</td>\n",
       "      <td>No renovable</td>\n",
       "    </tr>\n",
       "    <tr>\n",
       "      <th>5</th>\n",
       "      <td>1.635286e+08</td>\n",
       "      <td>0.598378</td>\n",
       "      <td>2013-01-01T00:00:00.000+01:00</td>\n",
       "      <td>No renovable</td>\n",
       "    </tr>\n",
       "    <tr>\n",
       "      <th>22</th>\n",
       "      <td>1.165831e+08</td>\n",
       "      <td>0.421921</td>\n",
       "      <td>2022-01-01T00:00:00.000+01:00</td>\n",
       "      <td>Renovable</td>\n",
       "    </tr>\n",
       "  </tbody>\n",
       "</table>\n",
       "</div>"
      ],
      "text/plain": [
       "           value  percentage                       datetime  tipo_energia\n",
       "1   1.926868e+08    0.689759  2011-01-01T00:00:00.000+01:00  No renovable\n",
       "4   1.097577e+08    0.401622  2013-01-01T00:00:00.000+01:00     Renovable\n",
       "11  1.607465e+08    0.613921  2016-01-01T00:00:00.000+01:00  No renovable\n",
       "5   1.635286e+08    0.598378  2013-01-01T00:00:00.000+01:00  No renovable\n",
       "22  1.165831e+08    0.421921  2022-01-01T00:00:00.000+01:00     Renovable"
      ]
     },
     "execution_count": 65,
     "metadata": {},
     "output_type": "execute_result"
    }
   ],
   "source": [
    "datos_tipos_energia.sample(5)"
   ]
  },
  {
   "cell_type": "code",
   "execution_count": 10,
   "metadata": {},
   "outputs": [],
   "source": [
    "df_renovables = datos_tipos_energia[datos_tipos_energia[\"tipo_energia\"] == \"Renovable\"]\n",
    "df_no_renovables = datos_tipos_energia[datos_tipos_energia[\"tipo_energia\"] == \"No renovable\"]"
   ]
  },
  {
   "cell_type": "code",
   "execution_count": 14,
   "metadata": {},
   "outputs": [
    {
     "data": {
      "text/html": [
       "<div>\n",
       "<style scoped>\n",
       "    .dataframe tbody tr th:only-of-type {\n",
       "        vertical-align: middle;\n",
       "    }\n",
       "\n",
       "    .dataframe tbody tr th {\n",
       "        vertical-align: top;\n",
       "    }\n",
       "\n",
       "    .dataframe thead th {\n",
       "        text-align: right;\n",
       "    }\n",
       "</style>\n",
       "<table border=\"1\" class=\"dataframe\">\n",
       "  <thead>\n",
       "    <tr style=\"text-align: right;\">\n",
       "      <th></th>\n",
       "      <th>value</th>\n",
       "      <th>percentage</th>\n",
       "      <th>datetime</th>\n",
       "      <th>tipo_energia</th>\n",
       "    </tr>\n",
       "  </thead>\n",
       "  <tbody>\n",
       "    <tr>\n",
       "      <th>2450</th>\n",
       "      <td>250655.3665</td>\n",
       "      <td>0.326260</td>\n",
       "      <td>2014-09-16T00:00:00.000+02:00</td>\n",
       "      <td>Renovable</td>\n",
       "    </tr>\n",
       "    <tr>\n",
       "      <th>3096</th>\n",
       "      <td>201968.4190</td>\n",
       "      <td>0.278284</td>\n",
       "      <td>2015-06-24T00:00:00.000+02:00</td>\n",
       "      <td>Renovable</td>\n",
       "    </tr>\n",
       "  </tbody>\n",
       "</table>\n",
       "</div>"
      ],
      "text/plain": [
       "            value  percentage                       datetime tipo_energia\n",
       "2450  250655.3665    0.326260  2014-09-16T00:00:00.000+02:00    Renovable\n",
       "3096  201968.4190    0.278284  2015-06-24T00:00:00.000+02:00    Renovable"
      ]
     },
     "metadata": {},
     "output_type": "display_data"
    },
    {
     "data": {
      "text/html": [
       "<div>\n",
       "<style scoped>\n",
       "    .dataframe tbody tr th:only-of-type {\n",
       "        vertical-align: middle;\n",
       "    }\n",
       "\n",
       "    .dataframe tbody tr th {\n",
       "        vertical-align: top;\n",
       "    }\n",
       "\n",
       "    .dataframe thead th {\n",
       "        text-align: right;\n",
       "    }\n",
       "</style>\n",
       "<table border=\"1\" class=\"dataframe\">\n",
       "  <thead>\n",
       "    <tr style=\"text-align: right;\">\n",
       "      <th></th>\n",
       "      <th>value</th>\n",
       "      <th>percentage</th>\n",
       "      <th>datetime</th>\n",
       "      <th>tipo_energia</th>\n",
       "    </tr>\n",
       "  </thead>\n",
       "  <tbody>\n",
       "    <tr>\n",
       "      <th>6233</th>\n",
       "      <td>528517.7785</td>\n",
       "      <td>0.594427</td>\n",
       "      <td>2019-01-25T00:00:00.000+01:00</td>\n",
       "      <td>No renovable</td>\n",
       "    </tr>\n",
       "    <tr>\n",
       "      <th>3591</th>\n",
       "      <td>324377.5630</td>\n",
       "      <td>0.525998</td>\n",
       "      <td>2015-11-01T00:00:00.000+01:00</td>\n",
       "      <td>No renovable</td>\n",
       "    </tr>\n",
       "  </tbody>\n",
       "</table>\n",
       "</div>"
      ],
      "text/plain": [
       "            value  percentage                       datetime  tipo_energia\n",
       "6233  528517.7785    0.594427  2019-01-25T00:00:00.000+01:00  No renovable\n",
       "3591  324377.5630    0.525998  2015-11-01T00:00:00.000+01:00  No renovable"
      ]
     },
     "metadata": {},
     "output_type": "display_data"
    }
   ],
   "source": [
    "display(df_renovables.sample(2))\n",
    "display(df_no_renovables.sample(2))"
   ]
  },
  {
   "attachments": {},
   "cell_type": "markdown",
   "metadata": {},
   "source": [
    "Sacaremos la misma información que en el ejericio anterior, pero en este caso por CCAA. \n",
    "\n",
    "Para esto necesitaremos los códigos de cada una de las comunidades autónomas que encontraréis en el siguiente diccionario:"
   ]
  },
  {
   "cell_type": "code",
   "execution_count": 15,
   "metadata": {},
   "outputs": [],
   "source": [
    "cod_comunidades = {'Ceuta': 8744,\n",
    "                    'Melilla': 8745,\n",
    "                    'Andalucía': 4,\n",
    "                    'Aragón': 5,\n",
    "                    'Cantabria': 6,\n",
    "                    'Castilla - La Mancha': 7,\n",
    "                    'Castilla y León': 8,\n",
    "                    'Cataluña': 9,\n",
    "                    'País Vasco': 10,\n",
    "                    'Principado de Asturias': 11,\n",
    "                    'Comunidad de Madrid': 13,\n",
    "                    'Comunidad Foral de Navarra': 14,\n",
    "                    'Comunitat Valenciana': 15,\n",
    "                    'Extremadura': 16,\n",
    "                    'Galicia': 17,\n",
    "                    'Illes Balears': 8743,\n",
    "                    'Canarias': 8742,\n",
    "                    'Región de Murcia': 21,\n",
    "                    'La Rioja': 20}"
   ]
  },
  {
   "cell_type": "code",
   "execution_count": 54,
   "metadata": {},
   "outputs": [],
   "source": [
    "def comunidades(inicio, fin):\n",
    "    datos_energia = pd.DataFrame()\n",
    "    for i in range(inicio, fin):\n",
    "        for k,v in cod_comunidades.items():\n",
    "            url = f\"https://apidatos.ree.es/es/datos/generacion/evolucion-renovable-no-renovable?start_date={i}-01-01T00:00&end_date={i}-12-31T23:59&time_trunc=year&geo_trunc=electric_system&geo_limit=ccaa&geo_ids={v}\"\n",
    "            response = requests.get(url=url)\n",
    "            datos = response.json()\n",
    "\n",
    "            for e in range(len(datos[\"included\"])):\n",
    "                x = pd.DataFrame(datos[\"included\"][e][\"attributes\"][\"values\"])\n",
    "                x[\"tipo_energia\"] = datos[\"included\"][e][\"attributes\"][\"title\"]\n",
    "                x[\"comunidad\"] = k\n",
    "                x[\"cod_comunidad\"] = v\n",
    "\n",
    "                datos_energia = pd.concat([datos_energia, x], axis=0, ignore_index = True)\n",
    "\n",
    "    return datos_energia"
   ]
  },
  {
   "cell_type": "code",
   "execution_count": 58,
   "metadata": {},
   "outputs": [],
   "source": [
    "energia_comunidades = comunidades(2011, 2023)"
   ]
  },
  {
   "attachments": {},
   "cell_type": "markdown",
   "metadata": {},
   "source": [
    "Guardad los csv ya que mañana los seguiremos usando en los siguientes pairs"
   ]
  },
  {
   "cell_type": "code",
   "execution_count": 60,
   "metadata": {},
   "outputs": [
    {
     "data": {
      "text/html": [
       "<div>\n",
       "<style scoped>\n",
       "    .dataframe tbody tr th:only-of-type {\n",
       "        vertical-align: middle;\n",
       "    }\n",
       "\n",
       "    .dataframe tbody tr th {\n",
       "        vertical-align: top;\n",
       "    }\n",
       "\n",
       "    .dataframe thead th {\n",
       "        text-align: right;\n",
       "    }\n",
       "</style>\n",
       "<table border=\"1\" class=\"dataframe\">\n",
       "  <thead>\n",
       "    <tr style=\"text-align: right;\">\n",
       "      <th></th>\n",
       "      <th>value</th>\n",
       "      <th>percentage</th>\n",
       "      <th>datetime</th>\n",
       "      <th>tipo_energia</th>\n",
       "      <th>comunidad</th>\n",
       "      <th>cod_comunidad</th>\n",
       "    </tr>\n",
       "  </thead>\n",
       "  <tbody>\n",
       "    <tr>\n",
       "      <th>336</th>\n",
       "      <td>1.440303e+07</td>\n",
       "      <td>0.514666</td>\n",
       "      <td>2020-01-01T00:00:00.000+01:00</td>\n",
       "      <td>Renovable</td>\n",
       "      <td>Andalucía</td>\n",
       "      <td>4</td>\n",
       "    </tr>\n",
       "    <tr>\n",
       "      <th>325</th>\n",
       "      <td>2.737325e+05</td>\n",
       "      <td>0.061925</td>\n",
       "      <td>2019-01-01T00:00:00.000+01:00</td>\n",
       "      <td>Renovable</td>\n",
       "      <td>Illes Balears</td>\n",
       "      <td>8743</td>\n",
       "    </tr>\n",
       "    <tr>\n",
       "      <th>263</th>\n",
       "      <td>2.251321e+07</td>\n",
       "      <td>0.657006</td>\n",
       "      <td>2018-01-01T00:00:00.000+01:00</td>\n",
       "      <td>No renovable</td>\n",
       "      <td>Andalucía</td>\n",
       "      <td>4</td>\n",
       "    </tr>\n",
       "    <tr>\n",
       "      <th>13</th>\n",
       "      <td>6.381742e+06</td>\n",
       "      <td>0.151747</td>\n",
       "      <td>2011-01-01T00:00:00.000+01:00</td>\n",
       "      <td>Renovable</td>\n",
       "      <td>Cataluña</td>\n",
       "      <td>9</td>\n",
       "    </tr>\n",
       "    <tr>\n",
       "      <th>216</th>\n",
       "      <td>7.014236e+05</td>\n",
       "      <td>0.080217</td>\n",
       "      <td>2016-01-01T00:00:00.000+01:00</td>\n",
       "      <td>Renovable</td>\n",
       "      <td>Canarias</td>\n",
       "      <td>8742</td>\n",
       "    </tr>\n",
       "  </tbody>\n",
       "</table>\n",
       "</div>"
      ],
      "text/plain": [
       "            value  percentage                       datetime  tipo_energia  \\\n",
       "336  1.440303e+07    0.514666  2020-01-01T00:00:00.000+01:00     Renovable   \n",
       "325  2.737325e+05    0.061925  2019-01-01T00:00:00.000+01:00     Renovable   \n",
       "263  2.251321e+07    0.657006  2018-01-01T00:00:00.000+01:00  No renovable   \n",
       "13   6.381742e+06    0.151747  2011-01-01T00:00:00.000+01:00     Renovable   \n",
       "216  7.014236e+05    0.080217  2016-01-01T00:00:00.000+01:00     Renovable   \n",
       "\n",
       "         comunidad  cod_comunidad  \n",
       "336      Andalucía              4  \n",
       "325  Illes Balears           8743  \n",
       "263      Andalucía              4  \n",
       "13        Cataluña              9  \n",
       "216       Canarias           8742  "
      ]
     },
     "execution_count": 60,
     "metadata": {},
     "output_type": "execute_result"
    }
   ],
   "source": [
    "energia_comunidades.sample(5)"
   ]
  },
  {
   "cell_type": "code",
   "execution_count": 61,
   "metadata": {},
   "outputs": [],
   "source": [
    "energia_comunidades.to_csv(\"datos/energia_comunidades.csv\")"
   ]
  },
  {
   "cell_type": "code",
   "execution_count": 66,
   "metadata": {},
   "outputs": [],
   "source": [
    "datos_tipos_energia.to_csv(\"datos/tipos_energia.csv\")"
   ]
  }
 ],
 "metadata": {
  "kernelspec": {
   "display_name": "Python 3",
   "language": "python",
   "name": "python3"
  },
  "language_info": {
   "codemirror_mode": {
    "name": "ipython",
    "version": 3
   },
   "file_extension": ".py",
   "mimetype": "text/x-python",
   "name": "python",
   "nbconvert_exporter": "python",
   "pygments_lexer": "ipython3",
   "version": "3.9.7"
  },
  "orig_nbformat": 4
 },
 "nbformat": 4,
 "nbformat_minor": 2
}
