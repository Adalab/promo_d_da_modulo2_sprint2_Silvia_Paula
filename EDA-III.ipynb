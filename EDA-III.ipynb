{
 "cells": [
  {
   "attachments": {},
   "cell_type": "markdown",
   "metadata": {},
   "source": [
    "En el ejercicio de hoy tendremos que contestar a las siguientes preguntas:\n",
    "\n",
    "📌 Nota Como siempre, después de cada gráfica incluid una pequeña explicación de lo que nos está mostrando la gráfica."
   ]
  },
  {
   "cell_type": "code",
   "execution_count": 1,
   "metadata": {},
   "outputs": [],
   "source": [
    "import pandas as pd\n",
    "import numpy as np\n",
    "import seaborn as sns\n",
    "import matplotlib.pyplot as plt\n",
    "import os\n",
    "\n",
    "import warnings\n",
    "warnings.filterwarnings('ignore')"
   ]
  },
  {
   "attachments": {},
   "cell_type": "markdown",
   "metadata": {},
   "source": [
    "Estableced el tamaño de las figuras al inicio de vuestro jupyter para que todas tengan las mismas dimensiones."
   ]
  },
  {
   "cell_type": "code",
   "execution_count": 2,
   "metadata": {},
   "outputs": [],
   "source": [
    "plt.rcParams[\"figure.figsize\"] = (15,10)"
   ]
  },
  {
   "cell_type": "code",
   "execution_count": 3,
   "metadata": {},
   "outputs": [],
   "source": [
    "#os.chdir(\"pairs_modulo_2/promo_d_da_modulo2_sprint2_Silvia_Paula/\")"
   ]
  },
  {
   "cell_type": "code",
   "execution_count": 4,
   "metadata": {},
   "outputs": [],
   "source": [
    "df_tickets = pd.read_csv(\"datos/historico_tickets_limpio_pandas.csv\", index_col= 0)"
   ]
  },
  {
   "cell_type": "code",
   "execution_count": 5,
   "metadata": {},
   "outputs": [
    {
     "data": {
      "text/html": [
       "<div>\n",
       "<style scoped>\n",
       "    .dataframe tbody tr th:only-of-type {\n",
       "        vertical-align: middle;\n",
       "    }\n",
       "\n",
       "    .dataframe tbody tr th {\n",
       "        vertical-align: top;\n",
       "    }\n",
       "\n",
       "    .dataframe thead th {\n",
       "        text-align: right;\n",
       "    }\n",
       "</style>\n",
       "<table border=\"1\" class=\"dataframe\">\n",
       "  <thead>\n",
       "    <tr style=\"text-align: right;\">\n",
       "      <th></th>\n",
       "      <th>id_ticket</th>\n",
       "      <th>fecha</th>\n",
       "      <th>id_empleado</th>\n",
       "      <th>id_agente</th>\n",
       "      <th>categoría</th>\n",
       "      <th>tipo</th>\n",
       "      <th>severidad</th>\n",
       "      <th>prioridad</th>\n",
       "      <th>días_resolución</th>\n",
       "      <th>satisfacción</th>\n",
       "      <th>semestre</th>\n",
       "      <th>año</th>\n",
       "      <th>mes</th>\n",
       "    </tr>\n",
       "  </thead>\n",
       "  <tbody>\n",
       "    <tr>\n",
       "      <th>0</th>\n",
       "      <td>GDDENR-5042564453</td>\n",
       "      <td>2016-07-13</td>\n",
       "      <td>1735</td>\n",
       "      <td>4</td>\n",
       "      <td>Acceso/Login</td>\n",
       "      <td>Problema</td>\n",
       "      <td>0 - Sin Clasificar</td>\n",
       "      <td>0 - Sin Asignar</td>\n",
       "      <td>0</td>\n",
       "      <td>5</td>\n",
       "      <td>2º semestre</td>\n",
       "      <td>2016</td>\n",
       "      <td>Julio</td>\n",
       "    </tr>\n",
       "    <tr>\n",
       "      <th>1</th>\n",
       "      <td>GDDENR-8042508060</td>\n",
       "      <td>2016-05-18</td>\n",
       "      <td>1566</td>\n",
       "      <td>10</td>\n",
       "      <td>Acceso/Login</td>\n",
       "      <td>Problema</td>\n",
       "      <td>0 - Sin Clasificar</td>\n",
       "      <td>0 - Sin Asignar</td>\n",
       "      <td>0</td>\n",
       "      <td>5</td>\n",
       "      <td>1 semestre</td>\n",
       "      <td>2016</td>\n",
       "      <td>Mayo</td>\n",
       "    </tr>\n",
       "  </tbody>\n",
       "</table>\n",
       "</div>"
      ],
      "text/plain": [
       "           id_ticket       fecha  id_empleado  id_agente     categoría  \\\n",
       "0  GDDENR-5042564453  2016-07-13         1735          4  Acceso/Login   \n",
       "1  GDDENR-8042508060  2016-05-18         1566         10  Acceso/Login   \n",
       "\n",
       "       tipo           severidad        prioridad  días_resolución  \\\n",
       "0  Problema  0 - Sin Clasificar  0 - Sin Asignar                0   \n",
       "1  Problema  0 - Sin Clasificar  0 - Sin Asignar                0   \n",
       "\n",
       "   satisfacción     semestre   año    mes  \n",
       "0             5  2º semestre  2016  Julio  \n",
       "1             5   1 semestre  2016   Mayo  "
      ]
     },
     "execution_count": 5,
     "metadata": {},
     "output_type": "execute_result"
    }
   ],
   "source": [
    "df_tickets.head(2)"
   ]
  },
  {
   "attachments": {},
   "cell_type": "markdown",
   "metadata": {},
   "source": [
    "Manos a la obra con los plots, estos irán muy dirigidos hacia las preguntas que queremos contestar, para hacer una primera aproximación a nuestras hipótesis:\n",
    "\n",
    "En la primera gráfica tendremos que contestar la siguiente pregunta: \n",
    "\n",
    "¿Son los tickets con mayor severidad y prioridad los que se resuelven antes?. Para eso tendréis que:"
   ]
  },
  {
   "attachments": {},
   "cell_type": "markdown",
   "metadata": {},
   "source": [
    "- Crear un subplot con dos gráficas.\n",
    "- En la primera gráfica tendréis que mostrar la relación que existe entre la severidad y el tiempo de resolución. ¿Son los tickets que tienen una severidad más alta los que más tardan en resolverse?\n"
   ]
  },
  {
   "cell_type": "code",
   "execution_count": 6,
   "metadata": {},
   "outputs": [
    {
     "data": {
      "text/plain": [
       "['0 - Sin Clasificar', '1 - Menor', '2 - Normal', '3 - Mayor', '4 - Crítico']"
      ]
     },
     "execution_count": 6,
     "metadata": {},
     "output_type": "execute_result"
    }
   ],
   "source": [
    "list(np.sort(df_tickets[\"severidad\"].unique()))"
   ]
  },
  {
   "cell_type": "code",
   "execution_count": 7,
   "metadata": {},
   "outputs": [
    {
     "data": {
      "text/plain": [
       "([<matplotlib.axis.XTick at 0x7f5b7ab526d0>,\n",
       "  <matplotlib.axis.XTick at 0x7f5b7ab526a0>,\n",
       "  <matplotlib.axis.XTick at 0x7f5b7a2a1a90>,\n",
       "  <matplotlib.axis.XTick at 0x7f5b79a7c280>,\n",
       "  <matplotlib.axis.XTick at 0x7f5b79a7c9d0>],\n",
       " [Text(0, 0, '0 - Sin Clasificar'),\n",
       "  Text(1, 0, '1 - Menor'),\n",
       "  Text(2, 0, '2 - Normal'),\n",
       "  Text(3, 0, '3 - Mayor'),\n",
       "  Text(4, 0, '4 - Crítico')])"
      ]
     },
     "execution_count": 7,
     "metadata": {},
     "output_type": "execute_result"
    },
    {
     "data": {
      "image/png": "[encoded data removed]",
      "text/plain": [
       "<Figure size 1080x720 with 1 Axes>"
      ]
     },
     "metadata": {
      "needs_background": "light"
     },
     "output_type": "display_data"
    }
   ],
   "source": [
    "sns.boxplot(x = \"severidad\", y = \"días_resolución\", data = df_tickets)\n",
    "plt.xticks(ticks = [0,1,2,3,4], labels = list(np.sort(df_tickets[\"severidad\"].unique())))\n"
   ]
  },
  {
   "attachments": {},
   "cell_type": "markdown",
   "metadata": {},
   "source": [
    "- En la segunda gráfica tendréis que mostrar la relación que existe entre la prioridad y el tiempo de resolución. ¿Son los tickets que tienen una prioridad más alta los que más tardan en resolverse?"
   ]
  },
  {
   "cell_type": "code",
   "execution_count": 8,
   "metadata": {},
   "outputs": [
    {
     "data": {
      "image/png": "[encoded data removed]",
      "text/plain": [
       "<Figure size 1080x720 with 1 Axes>"
      ]
     },
     "metadata": {
      "needs_background": "light"
     },
     "output_type": "display_data"
    }
   ],
   "source": [
    "sns.boxplot(x = \"prioridad\", y = \"días_resolución\", data = df_tickets)\n",
    "plt.xticks(ticks = [0,1,2,3], labels = list(np.sort(df_tickets[\"prioridad\"].unique())));"
   ]
  },
  {
   "cell_type": "code",
   "execution_count": 9,
   "metadata": {},
   "outputs": [
    {
     "data": {
      "image/png": "[encoded data removed]",
      "text/plain": [
       "<Figure size 1080x720 with 2 Axes>"
      ]
     },
     "metadata": {
      "needs_background": "light"
     },
     "output_type": "display_data"
    }
   ],
   "source": [
    "fig, axes = plt.subplots(1,2)\n",
    "sns.boxplot(x = \"severidad\", y = \"días_resolución\", data = df_tickets, ax= axes[0])\n",
    "axes[0].set_xticks(ticks = [0,1,2,3,4])\n",
    "axes[0].set_xticklabels = list(np.sort(df_tickets[\"severidad\"].unique()))\n",
    "sns.boxplot(x = \"prioridad\", y = \"días_resolución\", data = df_tickets, ax= axes[1])\n",
    "axes[1].set_xticks(ticks = [0,1,2,3]) \n",
    "axes[1].set_xticklabels = list(np.sort(df_tickets[\"prioridad\"].unique()))"
   ]
  },
  {
   "attachments": {},
   "cell_type": "markdown",
   "metadata": {},
   "source": [
    "En la segunda gráfica contestaremos a la siguiente pregunta: \n",
    "\n",
    "¿Están los clientes con problemas de acceso y login más contentos que los que tienen problemas de software?. Para eso tendréis que:"
   ]
  },
  {
   "attachments": {},
   "cell_type": "markdown",
   "metadata": {},
   "source": [
    "- Crear otro dataframe donde tengáis solo los datos para los datos para los problemas de tipo \"Acceso/Login\" o \"Software\".\n",
    "- Crear una gráfica donde podamos ver la satisfacción de los clientes en función de los problemas filtrados en el paso anterior."
   ]
  },
  {
   "cell_type": "code",
   "execution_count": 10,
   "metadata": {},
   "outputs": [
    {
     "data": {
      "text/html": [
       "<div>\n",
       "<style scoped>\n",
       "    .dataframe tbody tr th:only-of-type {\n",
       "        vertical-align: middle;\n",
       "    }\n",
       "\n",
       "    .dataframe tbody tr th {\n",
       "        vertical-align: top;\n",
       "    }\n",
       "\n",
       "    .dataframe thead th {\n",
       "        text-align: right;\n",
       "    }\n",
       "</style>\n",
       "<table border=\"1\" class=\"dataframe\">\n",
       "  <thead>\n",
       "    <tr style=\"text-align: right;\">\n",
       "      <th></th>\n",
       "      <th>id_ticket</th>\n",
       "      <th>fecha</th>\n",
       "      <th>id_empleado</th>\n",
       "      <th>id_agente</th>\n",
       "      <th>categoría</th>\n",
       "      <th>tipo</th>\n",
       "      <th>severidad</th>\n",
       "      <th>prioridad</th>\n",
       "      <th>días_resolución</th>\n",
       "      <th>satisfacción</th>\n",
       "      <th>semestre</th>\n",
       "      <th>año</th>\n",
       "      <th>mes</th>\n",
       "    </tr>\n",
       "  </thead>\n",
       "  <tbody>\n",
       "    <tr>\n",
       "      <th>0</th>\n",
       "      <td>GDDENR-5042564453</td>\n",
       "      <td>2016-07-13</td>\n",
       "      <td>1735</td>\n",
       "      <td>4</td>\n",
       "      <td>Acceso/Login</td>\n",
       "      <td>Problema</td>\n",
       "      <td>0 - Sin Clasificar</td>\n",
       "      <td>0 - Sin Asignar</td>\n",
       "      <td>0</td>\n",
       "      <td>5</td>\n",
       "      <td>2º semestre</td>\n",
       "      <td>2016</td>\n",
       "      <td>Julio</td>\n",
       "    </tr>\n",
       "  </tbody>\n",
       "</table>\n",
       "</div>"
      ],
      "text/plain": [
       "           id_ticket       fecha  id_empleado  id_agente     categoría  \\\n",
       "0  GDDENR-5042564453  2016-07-13         1735          4  Acceso/Login   \n",
       "\n",
       "       tipo           severidad        prioridad  días_resolución  \\\n",
       "0  Problema  0 - Sin Clasificar  0 - Sin Asignar                0   \n",
       "\n",
       "   satisfacción     semestre   año    mes  \n",
       "0             5  2º semestre  2016  Julio  "
      ]
     },
     "execution_count": 10,
     "metadata": {},
     "output_type": "execute_result"
    }
   ],
   "source": [
    "df_tickets.head(1)"
   ]
  },
  {
   "cell_type": "code",
   "execution_count": 11,
   "metadata": {},
   "outputs": [
    {
     "data": {
      "text/html": [
       "<div>\n",
       "<style scoped>\n",
       "    .dataframe tbody tr th:only-of-type {\n",
       "        vertical-align: middle;\n",
       "    }\n",
       "\n",
       "    .dataframe tbody tr th {\n",
       "        vertical-align: top;\n",
       "    }\n",
       "\n",
       "    .dataframe thead th {\n",
       "        text-align: right;\n",
       "    }\n",
       "</style>\n",
       "<table border=\"1\" class=\"dataframe\">\n",
       "  <thead>\n",
       "    <tr style=\"text-align: right;\">\n",
       "      <th></th>\n",
       "      <th>id_ticket</th>\n",
       "      <th>fecha</th>\n",
       "      <th>id_empleado</th>\n",
       "      <th>id_agente</th>\n",
       "      <th>categoría</th>\n",
       "      <th>tipo</th>\n",
       "      <th>severidad</th>\n",
       "      <th>prioridad</th>\n",
       "      <th>días_resolución</th>\n",
       "      <th>satisfacción</th>\n",
       "      <th>semestre</th>\n",
       "      <th>año</th>\n",
       "      <th>mes</th>\n",
       "    </tr>\n",
       "  </thead>\n",
       "  <tbody>\n",
       "    <tr>\n",
       "      <th>0</th>\n",
       "      <td>GDDENR-5042564453</td>\n",
       "      <td>2016-07-13</td>\n",
       "      <td>1735</td>\n",
       "      <td>4</td>\n",
       "      <td>Acceso/Login</td>\n",
       "      <td>Problema</td>\n",
       "      <td>0 - Sin Clasificar</td>\n",
       "      <td>0 - Sin Asignar</td>\n",
       "      <td>0</td>\n",
       "      <td>5</td>\n",
       "      <td>2º semestre</td>\n",
       "      <td>2016</td>\n",
       "      <td>Julio</td>\n",
       "    </tr>\n",
       "    <tr>\n",
       "      <th>1</th>\n",
       "      <td>GDDENR-8042508060</td>\n",
       "      <td>2016-05-18</td>\n",
       "      <td>1566</td>\n",
       "      <td>10</td>\n",
       "      <td>Acceso/Login</td>\n",
       "      <td>Problema</td>\n",
       "      <td>0 - Sin Clasificar</td>\n",
       "      <td>0 - Sin Asignar</td>\n",
       "      <td>0</td>\n",
       "      <td>5</td>\n",
       "      <td>1 semestre</td>\n",
       "      <td>2016</td>\n",
       "      <td>Mayo</td>\n",
       "    </tr>\n",
       "    <tr>\n",
       "      <th>4</th>\n",
       "      <td>GDLEER-0042524120</td>\n",
       "      <td>2016-06-03</td>\n",
       "      <td>1842</td>\n",
       "      <td>31</td>\n",
       "      <td>Software</td>\n",
       "      <td>Problema</td>\n",
       "      <td>2 - Normal</td>\n",
       "      <td>0 - Sin Asignar</td>\n",
       "      <td>0</td>\n",
       "      <td>5</td>\n",
       "      <td>1 semestre</td>\n",
       "      <td>2016</td>\n",
       "      <td>Junio</td>\n",
       "    </tr>\n",
       "    <tr>\n",
       "      <th>5</th>\n",
       "      <td>GDLEER-0142608095</td>\n",
       "      <td>2016-08-26</td>\n",
       "      <td>59</td>\n",
       "      <td>20</td>\n",
       "      <td>Software</td>\n",
       "      <td>Problema</td>\n",
       "      <td>2 - Normal</td>\n",
       "      <td>0 - Sin Asignar</td>\n",
       "      <td>1</td>\n",
       "      <td>1</td>\n",
       "      <td>2º semestre</td>\n",
       "      <td>2016</td>\n",
       "      <td>Agosto</td>\n",
       "    </tr>\n",
       "    <tr>\n",
       "      <th>6</th>\n",
       "      <td>GDLEER-0242564650</td>\n",
       "      <td>2016-07-13</td>\n",
       "      <td>1175</td>\n",
       "      <td>36</td>\n",
       "      <td>Software</td>\n",
       "      <td>Problema</td>\n",
       "      <td>2 - Normal</td>\n",
       "      <td>0 - Sin Asignar</td>\n",
       "      <td>2</td>\n",
       "      <td>1</td>\n",
       "      <td>2º semestre</td>\n",
       "      <td>2016</td>\n",
       "      <td>Julio</td>\n",
       "    </tr>\n",
       "  </tbody>\n",
       "</table>\n",
       "</div>"
      ],
      "text/plain": [
       "           id_ticket       fecha  id_empleado  id_agente     categoría  \\\n",
       "0  GDDENR-5042564453  2016-07-13         1735          4  Acceso/Login   \n",
       "1  GDDENR-8042508060  2016-05-18         1566         10  Acceso/Login   \n",
       "4  GDLEER-0042524120  2016-06-03         1842         31      Software   \n",
       "5  GDLEER-0142608095  2016-08-26           59         20      Software   \n",
       "6  GDLEER-0242564650  2016-07-13         1175         36      Software   \n",
       "\n",
       "       tipo           severidad        prioridad  días_resolución  \\\n",
       "0  Problema  0 - Sin Clasificar  0 - Sin Asignar                0   \n",
       "1  Problema  0 - Sin Clasificar  0 - Sin Asignar                0   \n",
       "4  Problema          2 - Normal  0 - Sin Asignar                0   \n",
       "5  Problema          2 - Normal  0 - Sin Asignar                1   \n",
       "6  Problema          2 - Normal  0 - Sin Asignar                2   \n",
       "\n",
       "   satisfacción     semestre   año     mes  \n",
       "0             5  2º semestre  2016   Julio  \n",
       "1             5   1 semestre  2016    Mayo  \n",
       "4             5   1 semestre  2016   Junio  \n",
       "5             1  2º semestre  2016  Agosto  \n",
       "6             1  2º semestre  2016   Julio  "
      ]
     },
     "execution_count": 11,
     "metadata": {},
     "output_type": "execute_result"
    }
   ],
   "source": [
    "df_acceso = df_tickets[df_tickets[\"categoría\"].isin([\"Acceso/Login\", \"Software\"])]\n",
    "df_acceso.head()"
   ]
  },
  {
   "cell_type": "code",
   "execution_count": 12,
   "metadata": {},
   "outputs": [
    {
     "ename": "ValueError",
     "evalue": "Could not interpret input ''",
     "output_type": "error",
     "traceback": [
      "\u001b[0;31m---------------------------------------------------------------------------\u001b[0m",
      "\u001b[0;31mValueError\u001b[0m                                Traceback (most recent call last)",
      "\u001b[0;32m/tmp/ipykernel_1425/1005996139.py\u001b[0m in \u001b[0;36m<module>\u001b[0;34m\u001b[0m\n\u001b[0;32m----> 1\u001b[0;31m \u001b[0msns\u001b[0m\u001b[0;34m.\u001b[0m\u001b[0mboxplot\u001b[0m\u001b[0;34m(\u001b[0m\u001b[0mx\u001b[0m \u001b[0;34m=\u001b[0m \u001b[0;34m\"\"\u001b[0m\u001b[0;34m,\u001b[0m \u001b[0my\u001b[0m \u001b[0;34m=\u001b[0m \u001b[0;34m\"\"\u001b[0m\u001b[0;34m,\u001b[0m \u001b[0mdata\u001b[0m \u001b[0;34m=\u001b[0m \u001b[0mdf_tickets\u001b[0m\u001b[0;34m)\u001b[0m\u001b[0;34m\u001b[0m\u001b[0;34m\u001b[0m\u001b[0m\n\u001b[0m\u001b[1;32m      2\u001b[0m \u001b[0mplt\u001b[0m\u001b[0;34m.\u001b[0m\u001b[0mxticks\u001b[0m\u001b[0;34m(\u001b[0m\u001b[0mticks\u001b[0m \u001b[0;34m=\u001b[0m \u001b[0;34m[\u001b[0m\u001b[0;36m0\u001b[0m\u001b[0;34m,\u001b[0m\u001b[0;36m1\u001b[0m\u001b[0;34m,\u001b[0m\u001b[0;36m2\u001b[0m\u001b[0;34m,\u001b[0m\u001b[0;36m3\u001b[0m\u001b[0;34m]\u001b[0m\u001b[0;34m,\u001b[0m \u001b[0mlabels\u001b[0m \u001b[0;34m=\u001b[0m \u001b[0mlist\u001b[0m\u001b[0;34m(\u001b[0m\u001b[0mnp\u001b[0m\u001b[0;34m.\u001b[0m\u001b[0msort\u001b[0m\u001b[0;34m(\u001b[0m\u001b[0mdf_tickets\u001b[0m\u001b[0;34m[\u001b[0m\u001b[0;34m\"\"\u001b[0m\u001b[0;34m]\u001b[0m\u001b[0;34m.\u001b[0m\u001b[0munique\u001b[0m\u001b[0;34m(\u001b[0m\u001b[0;34m)\u001b[0m\u001b[0;34m)\u001b[0m\u001b[0;34m)\u001b[0m\u001b[0;34m)\u001b[0m\u001b[0;34m\u001b[0m\u001b[0;34m\u001b[0m\u001b[0m\n",
      "\u001b[0;32m~/anaconda3/lib/python3.9/site-packages/seaborn/_decorators.py\u001b[0m in \u001b[0;36minner_f\u001b[0;34m(*args, **kwargs)\u001b[0m\n\u001b[1;32m     44\u001b[0m             )\n\u001b[1;32m     45\u001b[0m         \u001b[0mkwargs\u001b[0m\u001b[0;34m.\u001b[0m\u001b[0mupdate\u001b[0m\u001b[0;34m(\u001b[0m\u001b[0;34m{\u001b[0m\u001b[0mk\u001b[0m\u001b[0;34m:\u001b[0m \u001b[0marg\u001b[0m \u001b[0;32mfor\u001b[0m \u001b[0mk\u001b[0m\u001b[0;34m,\u001b[0m \u001b[0marg\u001b[0m \u001b[0;32min\u001b[0m \u001b[0mzip\u001b[0m\u001b[0;34m(\u001b[0m\u001b[0msig\u001b[0m\u001b[0;34m.\u001b[0m\u001b[0mparameters\u001b[0m\u001b[0;34m,\u001b[0m \u001b[0margs\u001b[0m\u001b[0;34m)\u001b[0m\u001b[0;34m}\u001b[0m\u001b[0;34m)\u001b[0m\u001b[0;34m\u001b[0m\u001b[0;34m\u001b[0m\u001b[0m\n\u001b[0;32m---> 46\u001b[0;31m         \u001b[0;32mreturn\u001b[0m \u001b[0mf\u001b[0m\u001b[0;34m(\u001b[0m\u001b[0;34m**\u001b[0m\u001b[0mkwargs\u001b[0m\u001b[0;34m)\u001b[0m\u001b[0;34m\u001b[0m\u001b[0;34m\u001b[0m\u001b[0m\n\u001b[0m\u001b[1;32m     47\u001b[0m     \u001b[0;32mreturn\u001b[0m \u001b[0minner_f\u001b[0m\u001b[0;34m\u001b[0m\u001b[0;34m\u001b[0m\u001b[0m\n\u001b[1;32m     48\u001b[0m \u001b[0;34m\u001b[0m\u001b[0m\n",
      "\u001b[0;32m~/anaconda3/lib/python3.9/site-packages/seaborn/categorical.py\u001b[0m in \u001b[0;36mboxplot\u001b[0;34m(x, y, hue, data, order, hue_order, orient, color, palette, saturation, width, dodge, fliersize, linewidth, whis, ax, **kwargs)\u001b[0m\n\u001b[1;32m   2241\u001b[0m ):\n\u001b[1;32m   2242\u001b[0m \u001b[0;34m\u001b[0m\u001b[0m\n\u001b[0;32m-> 2243\u001b[0;31m     plotter = _BoxPlotter(x, y, hue, data, order, hue_order,\n\u001b[0m\u001b[1;32m   2244\u001b[0m                           \u001b[0morient\u001b[0m\u001b[0;34m,\u001b[0m \u001b[0mcolor\u001b[0m\u001b[0;34m,\u001b[0m \u001b[0mpalette\u001b[0m\u001b[0;34m,\u001b[0m \u001b[0msaturation\u001b[0m\u001b[0;34m,\u001b[0m\u001b[0;34m\u001b[0m\u001b[0;34m\u001b[0m\u001b[0m\n\u001b[1;32m   2245\u001b[0m                           width, dodge, fliersize, linewidth)\n",
      "\u001b[0;32m~/anaconda3/lib/python3.9/site-packages/seaborn/categorical.py\u001b[0m in \u001b[0;36m__init__\u001b[0;34m(self, x, y, hue, data, order, hue_order, orient, color, palette, saturation, width, dodge, fliersize, linewidth)\u001b[0m\n\u001b[1;32m    404\u001b[0m                  width, dodge, fliersize, linewidth):\n\u001b[1;32m    405\u001b[0m \u001b[0;34m\u001b[0m\u001b[0m\n\u001b[0;32m--> 406\u001b[0;31m         \u001b[0mself\u001b[0m\u001b[0;34m.\u001b[0m\u001b[0mestablish_variables\u001b[0m\u001b[0;34m(\u001b[0m\u001b[0mx\u001b[0m\u001b[0;34m,\u001b[0m \u001b[0my\u001b[0m\u001b[0;34m,\u001b[0m \u001b[0mhue\u001b[0m\u001b[0;34m,\u001b[0m \u001b[0mdata\u001b[0m\u001b[0;34m,\u001b[0m \u001b[0morient\u001b[0m\u001b[0;34m,\u001b[0m \u001b[0morder\u001b[0m\u001b[0;34m,\u001b[0m \u001b[0mhue_order\u001b[0m\u001b[0;34m)\u001b[0m\u001b[0;34m\u001b[0m\u001b[0;34m\u001b[0m\u001b[0m\n\u001b[0m\u001b[1;32m    407\u001b[0m         \u001b[0mself\u001b[0m\u001b[0;34m.\u001b[0m\u001b[0mestablish_colors\u001b[0m\u001b[0;34m(\u001b[0m\u001b[0mcolor\u001b[0m\u001b[0;34m,\u001b[0m \u001b[0mpalette\u001b[0m\u001b[0;34m,\u001b[0m \u001b[0msaturation\u001b[0m\u001b[0;34m)\u001b[0m\u001b[0;34m\u001b[0m\u001b[0;34m\u001b[0m\u001b[0m\n\u001b[1;32m    408\u001b[0m \u001b[0;34m\u001b[0m\u001b[0m\n",
      "\u001b[0;32m~/anaconda3/lib/python3.9/site-packages/seaborn/categorical.py\u001b[0m in \u001b[0;36mestablish_variables\u001b[0;34m(self, x, y, hue, data, orient, order, hue_order, units)\u001b[0m\n\u001b[1;32m    151\u001b[0m                 \u001b[0;32mif\u001b[0m \u001b[0misinstance\u001b[0m\u001b[0;34m(\u001b[0m\u001b[0mvar\u001b[0m\u001b[0;34m,\u001b[0m \u001b[0mstr\u001b[0m\u001b[0;34m)\u001b[0m\u001b[0;34m:\u001b[0m\u001b[0;34m\u001b[0m\u001b[0;34m\u001b[0m\u001b[0m\n\u001b[1;32m    152\u001b[0m                     \u001b[0merr\u001b[0m \u001b[0;34m=\u001b[0m \u001b[0;34m\"Could not interpret input '{}'\"\u001b[0m\u001b[0;34m.\u001b[0m\u001b[0mformat\u001b[0m\u001b[0;34m(\u001b[0m\u001b[0mvar\u001b[0m\u001b[0;34m)\u001b[0m\u001b[0;34m\u001b[0m\u001b[0;34m\u001b[0m\u001b[0m\n\u001b[0;32m--> 153\u001b[0;31m                     \u001b[0;32mraise\u001b[0m \u001b[0mValueError\u001b[0m\u001b[0;34m(\u001b[0m\u001b[0merr\u001b[0m\u001b[0;34m)\u001b[0m\u001b[0;34m\u001b[0m\u001b[0;34m\u001b[0m\u001b[0m\n\u001b[0m\u001b[1;32m    154\u001b[0m \u001b[0;34m\u001b[0m\u001b[0m\n\u001b[1;32m    155\u001b[0m             \u001b[0;31m# Figure out the plotting orientation\u001b[0m\u001b[0;34m\u001b[0m\u001b[0;34m\u001b[0m\u001b[0m\n",
      "\u001b[0;31mValueError\u001b[0m: Could not interpret input ''"
     ]
    }
   ],
   "source": [
    "sns.boxplot(x = \"\", y = \"\", data = df_tickets)\n",
    "plt.xticks(ticks = [0,1,2,3], labels = list(np.sort(df_tickets[\"\"].unique())))"
   ]
  },
  {
   "attachments": {},
   "cell_type": "markdown",
   "metadata": {},
   "source": [
    "En la tercera gráfica contestaremos a las siguientes preguntas \n",
    "\n",
    "¿Cuáles son los empleados que más tickets atienden? \n",
    "\n",
    "¿Son los empleados que atienden más tickets los que tardan más en solucionar los problemas de los clientes? \n",
    "\n",
    "¿Y la media de la satisfacción de los clientes es menor en aquellos empleados que atienden más solicitudes?. \n",
    "\n",
    "Para contestar a esto haremos 3 gráficas independientes:"
   ]
  },
  {
   "attachments": {},
   "cell_type": "markdown",
   "metadata": {},
   "source": [
    "En la primera gráfica deberemos, \n",
    "- Cuáles son los empleados que más tickets atienden?:\n",
    "- Sacar el número de tickets por empleado. Pista 💡 Para esto tendremos que usar un groupby.\n",
    "- Visualizar el resultado del groupby anterior con la gráfica que sea más adecuada."
   ]
  },
  {
   "cell_type": "code",
   "execution_count": 14,
   "metadata": {},
   "outputs": [
    {
     "data": {
      "text/html": [
       "<div>\n",
       "<style scoped>\n",
       "    .dataframe tbody tr th:only-of-type {\n",
       "        vertical-align: middle;\n",
       "    }\n",
       "\n",
       "    .dataframe tbody tr th {\n",
       "        vertical-align: top;\n",
       "    }\n",
       "\n",
       "    .dataframe thead th {\n",
       "        text-align: right;\n",
       "    }\n",
       "</style>\n",
       "<table border=\"1\" class=\"dataframe\">\n",
       "  <thead>\n",
       "    <tr style=\"text-align: right;\">\n",
       "      <th></th>\n",
       "      <th>id_empleado</th>\n",
       "      <th>id_ticket</th>\n",
       "    </tr>\n",
       "  </thead>\n",
       "  <tbody>\n",
       "    <tr>\n",
       "      <th>753</th>\n",
       "      <td>754</td>\n",
       "      <td>73</td>\n",
       "    </tr>\n",
       "    <tr>\n",
       "      <th>284</th>\n",
       "      <td>285</td>\n",
       "      <td>73</td>\n",
       "    </tr>\n",
       "    <tr>\n",
       "      <th>635</th>\n",
       "      <td>636</td>\n",
       "      <td>71</td>\n",
       "    </tr>\n",
       "    <tr>\n",
       "      <th>522</th>\n",
       "      <td>523</td>\n",
       "      <td>69</td>\n",
       "    </tr>\n",
       "    <tr>\n",
       "      <th>78</th>\n",
       "      <td>79</td>\n",
       "      <td>69</td>\n",
       "    </tr>\n",
       "    <tr>\n",
       "      <th>...</th>\n",
       "      <td>...</td>\n",
       "      <td>...</td>\n",
       "    </tr>\n",
       "    <tr>\n",
       "      <th>1617</th>\n",
       "      <td>1618</td>\n",
       "      <td>31</td>\n",
       "    </tr>\n",
       "    <tr>\n",
       "      <th>71</th>\n",
       "      <td>72</td>\n",
       "      <td>31</td>\n",
       "    </tr>\n",
       "    <tr>\n",
       "      <th>1194</th>\n",
       "      <td>1195</td>\n",
       "      <td>29</td>\n",
       "    </tr>\n",
       "    <tr>\n",
       "      <th>98</th>\n",
       "      <td>99</td>\n",
       "      <td>27</td>\n",
       "    </tr>\n",
       "    <tr>\n",
       "      <th>792</th>\n",
       "      <td>793</td>\n",
       "      <td>26</td>\n",
       "    </tr>\n",
       "  </tbody>\n",
       "</table>\n",
       "<p>2000 rows × 2 columns</p>\n",
       "</div>"
      ],
      "text/plain": [
       "      id_empleado  id_ticket\n",
       "753           754         73\n",
       "284           285         73\n",
       "635           636         71\n",
       "522           523         69\n",
       "78             79         69\n",
       "...           ...        ...\n",
       "1617         1618         31\n",
       "71             72         31\n",
       "1194         1195         29\n",
       "98             99         27\n",
       "792           793         26\n",
       "\n",
       "[2000 rows x 2 columns]"
      ]
     },
     "execution_count": 14,
     "metadata": {},
     "output_type": "execute_result"
    }
   ],
   "source": [
    "df_empleados = df_tickets.groupby(\"id_empleado\")[\"id_ticket\"].count().reset_index().sort_values(by = \"id_ticket\", ascending=False)\n",
    "df_empleados"
   ]
  },
  {
   "cell_type": "code",
   "execution_count": 15,
   "metadata": {},
   "outputs": [
    {
     "data": {
      "image/png": "[encoded data removed]",
      "text/plain": [
       "<Figure size 2160x576 with 1 Axes>"
      ]
     },
     "metadata": {
      "needs_background": "light"
     },
     "output_type": "display_data"
    }
   ],
   "source": [
    "plt.figure(figsize=(30, 8))\n",
    "sns.barplot(x =\"id_empleado\", y = \"id_ticket\", data= df_empleados);\n"
   ]
  },
  {
   "attachments": {},
   "cell_type": "markdown",
   "metadata": {},
   "source": [
    "En la segunda gráfica, ¿Son los empleados que atienden más tickets los que tardan más en solucionar los problemas de los clientes?\n",
    "- Deberéis crear una lista donde tengamos los \"id's\" de los 10 empleados que resuelvan más cantidad tickets y con los 10 empleados que resuelvan menos cantidad de tickets.\n",
    "- Usando la lista generada en el ejercicio anterior filtrad el dataframe para quedaros solo con los 10 seleccionados en el ejercicio anterior.\n",
    "- Una vez tengáis el dataframe filtrado, cread una gráfica donde veamos el tiempo de resolución de solicitudes para cada empleado"
   ]
  },
  {
   "cell_type": "code",
   "execution_count": 16,
   "metadata": {},
   "outputs": [],
   "source": [
    "df_mas_tickets= df_empleados.head(10)\n",
    "df_menos_tickets= df_empleados.tail(10) \t\n",
    "\n",
    "lista_emp_mas_tickets = list(df_mas_tickets[\"id_empleado\"])\n",
    "lista_emp_menos_tickets = list(df_menos_tickets[\"id_empleado\"])"
   ]
  },
  {
   "cell_type": "code",
   "execution_count": 17,
   "metadata": {},
   "outputs": [],
   "source": [
    "df_tiempos = df_tickets.groupby(\"id_empleado\")[\"días_resolución\"].mean().reset_index().sort_values(by = \"días_resolución\", ascending=False)\n",
    "df_tiempos_mas_tick = df_tiempos[df_tiempos[\"id_empleado\"].isin(lista_emp_mas_tickets)].sort_values(by= \"días_resolución\", ascending= False)\n",
    "df_tiempos_menos_tick = df_tiempos[df_tiempos[\"id_empleado\"].isin(lista_emp_menos_tickets)].sort_values(by= \"días_resolución\", ascending= False)\n"
   ]
  },
  {
   "cell_type": "code",
   "execution_count": 18,
   "metadata": {},
   "outputs": [
    {
     "data": {
      "image/png": "[encoded data removed]",
      "text/plain": [
       "<Figure size 864x576 with 2 Axes>"
      ]
     },
     "metadata": {
      "needs_background": "light"
     },
     "output_type": "display_data"
    }
   ],
   "source": [
    "fig, axes = plt.subplots(2,1, figsize = (12, 8))\n",
    "sns.barplot(x =\"id_empleado\", y = \"días_resolución\", data= df_tiempos_mas_tick, \n",
    "            order = df_tiempos_mas_tick.sort_values('días_resolución', ascending = False)['id_empleado'], ax = axes[0])\n",
    "sns.barplot(x =\"id_empleado\", y = \"días_resolución\", data= df_tiempos_menos_tick, \n",
    "            order = df_tiempos_menos_tick['id_empleado'], ax = axes[1])\n",
    "axes[0].set_title(\"Tiempo medio en empleados con más tickets\")\n",
    "axes[1].set_title(\"Tiempo medio en empleados con menos tickets\")\n",
    "fig.tight_layout();"
   ]
  },
  {
   "attachments": {},
   "cell_type": "markdown",
   "metadata": {},
   "source": [
    "En la tercera gráfica, ¿Y la media de la satisfacción de los clientes es menor en aquellos empleados que atienden más solicitudes?:\n",
    "📌 Usaremos los mismos datos que en la pregunta anterior, el dataframe de los 10 empleados más productivos y menos productivos.\n",
    "- Cread una gráfica donde veamos la satisfacción de los clientes para cada empleado."
   ]
  },
  {
   "cell_type": "code",
   "execution_count": 19,
   "metadata": {},
   "outputs": [],
   "source": [
    "df_sat = df_tickets.groupby(\"id_empleado\")[\"satisfacción\"].mean().reset_index().sort_values(by = \"satisfacción\", ascending=False)\n",
    "df_sat_mas_tick = df_sat[df_sat[\"id_empleado\"].isin(lista_emp_mas_tickets)].sort_values(by= \"satisfacción\", ascending= False)\n",
    "df_sat_menos_tick = df_sat[df_sat[\"id_empleado\"].isin(lista_emp_menos_tickets)].sort_values(by= \"satisfacción\", ascending= False)\n"
   ]
  },
  {
   "cell_type": "code",
   "execution_count": 21,
   "metadata": {},
   "outputs": [
    {
     "data": {
      "image/png": "[encoded data removed]",
      "text/plain": [
       "<Figure size 864x576 with 2 Axes>"
      ]
     },
     "metadata": {
      "needs_background": "light"
     },
     "output_type": "display_data"
    }
   ],
   "source": [
    "fig, axes = plt.subplots(2,1, figsize = (12, 8))\n",
    "sns.barplot(x =\"id_empleado\", y = \"satisfacción\", data= df_sat_mas_tick, \n",
    "            order = df_sat_mas_tick.sort_values('satisfacción', ascending = False)['id_empleado'], ax = axes[0])\n",
    "sns.barplot(x =\"id_empleado\", y = \"satisfacción\", data= df_sat_menos_tick, \n",
    "            order = df_sat_menos_tick['id_empleado'], ax = axes[1])\n",
    "axes[0].set_title(\"Satisfacción media en empleados con más tickets\")\n",
    "axes[1].set_title(\"Satisfacción media en empleados con menos tickets\")\n",
    "fig.tight_layout();"
   ]
  },
  {
   "cell_type": "code",
   "execution_count": null,
   "metadata": {},
   "outputs": [],
   "source": []
  }
 ],
 "metadata": {
  "kernelspec": {
   "display_name": "base",
   "language": "python",
   "name": "python3"
  },
  "language_info": {
   "codemirror_mode": {
    "name": "ipython",
    "version": 3
   },
   "file_extension": ".py",
   "mimetype": "text/x-python",
   "name": "python",
   "nbconvert_exporter": "python",
   "pygments_lexer": "ipython3",
   "version": "3.9.7"
  },
  "orig_nbformat": 4
 },
 "nbformat": 4,
 "nbformat_minor": 2
}
