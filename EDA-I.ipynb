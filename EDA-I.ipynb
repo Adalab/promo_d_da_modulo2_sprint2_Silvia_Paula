{
 "cells": [
  {
   "attachments": {},
   "cell_type": "markdown",
   "metadata": {},
   "source": [
    "# Pair Programming EDA I"
   ]
  },
  {
   "attachments": {},
   "cell_type": "markdown",
   "metadata": {},
   "source": [
    "## Hipótesis\n",
    "Las hipótesis que os planteamos para el conjunto de datos de historico_tickets_limpio_pandas son:"
   ]
  },
  {
   "attachments": {},
   "cell_type": "markdown",
   "metadata": {},
   "source": [
    "- Tiempo de resolución: \n",
    "    Se podría hipotetizar que los tickets con mayor severidad y prioridad son resueltos en menos días que los tickets con menor prioridad. Además, se podría examinar si hay alguna correlación entre el tipo de problema y el tiempo que toma resolverlo.\n",
    "    \n",
    "    La pregunta que contestaremos es: ¿Son los tickets con mayor severidad y prioridad los que se resuelven antes?\n",
    "\n",
    "- Satisfacción del cliente: Se podría hipotetizar que la satisfacción del cliente está relacionada con la velocidad de resolución del ticket y la categoría del problema. Por ejemplo, los clientes podrían estar más satisfechos si sus problemas de acceso y login se resuelven rápidamente en comparación con los problemas de software más complejos.\n",
    "\n",
    "    La pregunta que contestaremos es: ¿Están los clientes con problemas de acceso y login más contentos que los que tienen problemas de software?\n",
    "\n",
    "    -   Desempeño del agente: Se podría hipotetizar que algunos agentes tienen un mejor desempeño que otros en la resolución de tickets. Se podrían explorar variables como el número de tickets asignados, el tiempo promedio de resolución y la satisfacción del cliente para identificar patrones en el desempeño de los agentes.\n",
    "\n",
    "    La pregunta que contestaremos es: ¿Cuáles son los empleados que más tickets atienden? ¿Son los empleados que atienden más tickets los que tardan más en solucionar los problemas de los clientes? ¿Y la media de la satisfacción de los clientes es menor en aquellos empleados que atienden más solicitudes?\n",
    "\n",
    "    - Cambios en el tiempo: Se podría hipotetizar que el volumen y la naturaleza de los problemas cambian con el tiempo. Por ejemplo, se podría explorar si hay un aumento en los problemas de acceso y login durante un determinado período de tiempo, o si hay una correlación entre la temporada del año y el tipo de problema reportado.\n",
    "\n",
    "    La pregunta que contestaremos es: ¿Hay alguna diferencia entre a lo largo del tiempo entre las distintas categorías de solicitudes de tickets que tenemos?"
   ]
  },
  {
   "attachments": {},
   "cell_type": "markdown",
   "metadata": {},
   "source": [
    "## Objetivos\n",
    "El objetivo principal de este pair es comprender la estructura de los datos, como es formato de los datos, el número de columnas y filas, el tipo de datos, la distribución de los datos, etc. Los objetivos específicos de hoy son:"
   ]
  },
  {
   "cell_type": "code",
   "execution_count": 1,
   "metadata": {},
   "outputs": [],
   "source": [
    "import pandas as pd\n",
    "import numpy as np"
   ]
  },
  {
   "cell_type": "code",
   "execution_count": 2,
   "metadata": {},
   "outputs": [],
   "source": [
    "df_tickets = pd.read_csv(\"datos/historico_tickets_limpio_pandas.csv\", index_col= 0)"
   ]
  },
  {
   "attachments": {},
   "cell_type": "markdown",
   "metadata": {},
   "source": [
    "1. Haced una exploración inicial del dataframe:\n"
   ]
  },
  {
   "attachments": {},
   "cell_type": "markdown",
   "metadata": {},
   "source": [
    "- ¿Cuál es el número de filas y columnas? \n"
   ]
  },
  {
   "cell_type": "code",
   "execution_count": 3,
   "metadata": {},
   "outputs": [
    {
     "name": "stdout",
     "output_type": "stream",
     "text": [
      "En este dataframe hay 13 columnas y 97386 filas\n"
     ]
    }
   ],
   "source": [
    "df_tickets.shape\n",
    "print(f\"En este dataframe hay {df_tickets.shape[1]} columnas y {df_tickets.shape[0]} filas\")"
   ]
  },
  {
   "attachments": {},
   "cell_type": "markdown",
   "metadata": {},
   "source": [
    "- ¿Cuál es el porcentaje de valores nulos en cada columna? Presenta los resultados en un dataframe, donde las columnas sean el nombre de las variables y el porcentaje de nulos.\n"
   ]
  },
  {
   "cell_type": "code",
   "execution_count": 4,
   "metadata": {},
   "outputs": [
    {
     "data": {
      "text/html": [
       "<div>\n",
       "<style scoped>\n",
       "    .dataframe tbody tr th:only-of-type {\n",
       "        vertical-align: middle;\n",
       "    }\n",
       "\n",
       "    .dataframe tbody tr th {\n",
       "        vertical-align: top;\n",
       "    }\n",
       "\n",
       "    .dataframe thead th {\n",
       "        text-align: right;\n",
       "    }\n",
       "</style>\n",
       "<table border=\"1\" class=\"dataframe\">\n",
       "  <thead>\n",
       "    <tr style=\"text-align: right;\">\n",
       "      <th></th>\n",
       "      <th>0</th>\n",
       "      <th>1</th>\n",
       "      <th>2</th>\n",
       "      <th>3</th>\n",
       "      <th>4</th>\n",
       "      <th>5</th>\n",
       "      <th>6</th>\n",
       "      <th>7</th>\n",
       "      <th>8</th>\n",
       "      <th>9</th>\n",
       "      <th>10</th>\n",
       "      <th>11</th>\n",
       "      <th>12</th>\n",
       "    </tr>\n",
       "  </thead>\n",
       "  <tbody>\n",
       "    <tr>\n",
       "      <th>index</th>\n",
       "      <td>id_ticket</td>\n",
       "      <td>fecha</td>\n",
       "      <td>id_empleado</td>\n",
       "      <td>id_agente</td>\n",
       "      <td>categoría</td>\n",
       "      <td>tipo</td>\n",
       "      <td>severidad</td>\n",
       "      <td>prioridad</td>\n",
       "      <td>días_resolución</td>\n",
       "      <td>satisfacción</td>\n",
       "      <td>semestre</td>\n",
       "      <td>año</td>\n",
       "      <td>mes</td>\n",
       "    </tr>\n",
       "    <tr>\n",
       "      <th>0</th>\n",
       "      <td>0.0</td>\n",
       "      <td>0.0</td>\n",
       "      <td>0.0</td>\n",
       "      <td>0.0</td>\n",
       "      <td>0.0</td>\n",
       "      <td>0.0</td>\n",
       "      <td>0.0</td>\n",
       "      <td>0.0</td>\n",
       "      <td>0.0</td>\n",
       "      <td>0.0</td>\n",
       "      <td>0.0</td>\n",
       "      <td>0.0</td>\n",
       "      <td>0.0</td>\n",
       "    </tr>\n",
       "  </tbody>\n",
       "</table>\n",
       "</div>"
      ],
      "text/plain": [
       "              0      1            2          3          4     5          6   \\\n",
       "index  id_ticket  fecha  id_empleado  id_agente  categoría  tipo  severidad   \n",
       "0            0.0    0.0          0.0        0.0        0.0   0.0        0.0   \n",
       "\n",
       "              7                8             9         10   11   12  \n",
       "index  prioridad  días_resolución  satisfacción  semestre  año  mes  \n",
       "0            0.0              0.0           0.0       0.0  0.0  0.0  "
      ]
     },
     "execution_count": 4,
     "metadata": {},
     "output_type": "execute_result"
    }
   ],
   "source": [
    "df_nulos = df_tickets.isnull().sum()*100/df_tickets.shape[0]\n",
    "df_nulos.reset_index().T"
   ]
  },
  {
   "attachments": {},
   "cell_type": "markdown",
   "metadata": {},
   "source": [
    "- ¿Qué tipos de datos hay en cada columna?\n"
   ]
  },
  {
   "cell_type": "code",
   "execution_count": 5,
   "metadata": {},
   "outputs": [
    {
     "data": {
      "text/plain": [
       "id_ticket          object\n",
       "fecha              object\n",
       "id_empleado         int64\n",
       "id_agente           int64\n",
       "categoría          object\n",
       "tipo               object\n",
       "severidad          object\n",
       "prioridad          object\n",
       "días_resolución     int64\n",
       "satisfacción        int64\n",
       "semestre           object\n",
       "año                 int64\n",
       "mes                object\n",
       "dtype: object"
      ]
     },
     "execution_count": 5,
     "metadata": {},
     "output_type": "execute_result"
    }
   ],
   "source": [
    "df_tickets.dtypes"
   ]
  },
  {
   "attachments": {},
   "cell_type": "markdown",
   "metadata": {},
   "source": [
    "- Extraed la información general del dataframe."
   ]
  },
  {
   "cell_type": "code",
   "execution_count": 6,
   "metadata": {},
   "outputs": [
    {
     "name": "stdout",
     "output_type": "stream",
     "text": [
      "<class 'pandas.core.frame.DataFrame'>\n",
      "Int64Index: 97386 entries, 0 to 29087\n",
      "Data columns (total 13 columns):\n",
      " #   Column           Non-Null Count  Dtype \n",
      "---  ------           --------------  ----- \n",
      " 0   id_ticket        97386 non-null  object\n",
      " 1   fecha            97386 non-null  object\n",
      " 2   id_empleado      97386 non-null  int64 \n",
      " 3   id_agente        97386 non-null  int64 \n",
      " 4   categoría        97386 non-null  object\n",
      " 5   tipo             97386 non-null  object\n",
      " 6   severidad        97386 non-null  object\n",
      " 7   prioridad        97386 non-null  object\n",
      " 8   días_resolución  97386 non-null  int64 \n",
      " 9   satisfacción     97386 non-null  int64 \n",
      " 10  semestre         97386 non-null  object\n",
      " 11  año              97386 non-null  int64 \n",
      " 12  mes              97386 non-null  object\n",
      "dtypes: int64(5), object(8)\n",
      "memory usage: 10.4+ MB\n"
     ]
    }
   ],
   "source": [
    "df_tickets.info()"
   ]
  },
  {
   "attachments": {},
   "cell_type": "markdown",
   "metadata": {},
   "source": [
    "2. Cread dos dataframes nuevos, uno que incluya solo las variables categóricas y otro que incluya solo las variables numéricas."
   ]
  },
  {
   "cell_type": "code",
   "execution_count": 7,
   "metadata": {},
   "outputs": [],
   "source": [
    "df_categorico = df_tickets.select_dtypes(include = \"object\")"
   ]
  },
  {
   "cell_type": "code",
   "execution_count": 8,
   "metadata": {},
   "outputs": [],
   "source": [
    "df_numerico = df_tickets.select_dtypes(include = \"int64\")"
   ]
  },
  {
   "attachments": {},
   "cell_type": "markdown",
   "metadata": {},
   "source": [
    "- ¿Cuáles son los principales estádisticos de los dataframes?"
   ]
  },
  {
   "cell_type": "code",
   "execution_count": 9,
   "metadata": {},
   "outputs": [
    {
     "data": {
      "text/html": [
       "<div>\n",
       "<style scoped>\n",
       "    .dataframe tbody tr th:only-of-type {\n",
       "        vertical-align: middle;\n",
       "    }\n",
       "\n",
       "    .dataframe tbody tr th {\n",
       "        vertical-align: top;\n",
       "    }\n",
       "\n",
       "    .dataframe thead th {\n",
       "        text-align: right;\n",
       "    }\n",
       "</style>\n",
       "<table border=\"1\" class=\"dataframe\">\n",
       "  <thead>\n",
       "    <tr style=\"text-align: right;\">\n",
       "      <th></th>\n",
       "      <th>count</th>\n",
       "      <th>unique</th>\n",
       "      <th>top</th>\n",
       "      <th>freq</th>\n",
       "    </tr>\n",
       "  </thead>\n",
       "  <tbody>\n",
       "    <tr>\n",
       "      <th>id_ticket</th>\n",
       "      <td>97386</td>\n",
       "      <td>97386</td>\n",
       "      <td>GDDENR-5042564453</td>\n",
       "      <td>1</td>\n",
       "    </tr>\n",
       "    <tr>\n",
       "      <th>fecha</th>\n",
       "      <td>97386</td>\n",
       "      <td>1827</td>\n",
       "      <td>2020-02-20</td>\n",
       "      <td>105</td>\n",
       "    </tr>\n",
       "    <tr>\n",
       "      <th>categoría</th>\n",
       "      <td>97386</td>\n",
       "      <td>4</td>\n",
       "      <td>Sistema</td>\n",
       "      <td>38961</td>\n",
       "    </tr>\n",
       "    <tr>\n",
       "      <th>tipo</th>\n",
       "      <td>97386</td>\n",
       "      <td>2</td>\n",
       "      <td>Solicitud</td>\n",
       "      <td>73138</td>\n",
       "    </tr>\n",
       "    <tr>\n",
       "      <th>severidad</th>\n",
       "      <td>97386</td>\n",
       "      <td>5</td>\n",
       "      <td>2 - Normal</td>\n",
       "      <td>88555</td>\n",
       "    </tr>\n",
       "    <tr>\n",
       "      <th>prioridad</th>\n",
       "      <td>97386</td>\n",
       "      <td>4</td>\n",
       "      <td>3 - Alta</td>\n",
       "      <td>35511</td>\n",
       "    </tr>\n",
       "    <tr>\n",
       "      <th>semestre</th>\n",
       "      <td>97386</td>\n",
       "      <td>2</td>\n",
       "      <td>2º semestre</td>\n",
       "      <td>49876</td>\n",
       "    </tr>\n",
       "    <tr>\n",
       "      <th>mes</th>\n",
       "      <td>97386</td>\n",
       "      <td>12</td>\n",
       "      <td>Octubre</td>\n",
       "      <td>8487</td>\n",
       "    </tr>\n",
       "  </tbody>\n",
       "</table>\n",
       "</div>"
      ],
      "text/plain": [
       "           count unique                top   freq\n",
       "id_ticket  97386  97386  GDDENR-5042564453      1\n",
       "fecha      97386   1827         2020-02-20    105\n",
       "categoría  97386      4            Sistema  38961\n",
       "tipo       97386      2          Solicitud  73138\n",
       "severidad  97386      5         2 - Normal  88555\n",
       "prioridad  97386      4           3 - Alta  35511\n",
       "semestre   97386      2        2º semestre  49876\n",
       "mes        97386     12            Octubre   8487"
      ]
     },
     "execution_count": 9,
     "metadata": {},
     "output_type": "execute_result"
    }
   ],
   "source": [
    "df_categorico.describe(include = \"object\").T"
   ]
  },
  {
   "cell_type": "code",
   "execution_count": 10,
   "metadata": {},
   "outputs": [
    {
     "data": {
      "text/html": [
       "<div>\n",
       "<style scoped>\n",
       "    .dataframe tbody tr th:only-of-type {\n",
       "        vertical-align: middle;\n",
       "    }\n",
       "\n",
       "    .dataframe tbody tr th {\n",
       "        vertical-align: top;\n",
       "    }\n",
       "\n",
       "    .dataframe thead th {\n",
       "        text-align: right;\n",
       "    }\n",
       "</style>\n",
       "<table border=\"1\" class=\"dataframe\">\n",
       "  <thead>\n",
       "    <tr style=\"text-align: right;\">\n",
       "      <th></th>\n",
       "      <th>count</th>\n",
       "      <th>mean</th>\n",
       "      <th>std</th>\n",
       "      <th>min</th>\n",
       "      <th>25%</th>\n",
       "      <th>50%</th>\n",
       "      <th>75%</th>\n",
       "      <th>max</th>\n",
       "    </tr>\n",
       "  </thead>\n",
       "  <tbody>\n",
       "    <tr>\n",
       "      <th>id_empleado</th>\n",
       "      <td>97386.0</td>\n",
       "      <td>999.160639</td>\n",
       "      <td>577.407222</td>\n",
       "      <td>1.0</td>\n",
       "      <td>500.0</td>\n",
       "      <td>999.0</td>\n",
       "      <td>1499.0</td>\n",
       "      <td>2000.0</td>\n",
       "    </tr>\n",
       "    <tr>\n",
       "      <th>id_agente</th>\n",
       "      <td>97386.0</td>\n",
       "      <td>25.468856</td>\n",
       "      <td>14.449455</td>\n",
       "      <td>1.0</td>\n",
       "      <td>13.0</td>\n",
       "      <td>26.0</td>\n",
       "      <td>38.0</td>\n",
       "      <td>50.0</td>\n",
       "    </tr>\n",
       "    <tr>\n",
       "      <th>días_resolución</th>\n",
       "      <td>97386.0</td>\n",
       "      <td>4.552749</td>\n",
       "      <td>4.365432</td>\n",
       "      <td>0.0</td>\n",
       "      <td>0.0</td>\n",
       "      <td>4.0</td>\n",
       "      <td>7.0</td>\n",
       "      <td>21.0</td>\n",
       "    </tr>\n",
       "    <tr>\n",
       "      <th>satisfacción</th>\n",
       "      <td>97386.0</td>\n",
       "      <td>4.100990</td>\n",
       "      <td>1.257093</td>\n",
       "      <td>1.0</td>\n",
       "      <td>4.0</td>\n",
       "      <td>5.0</td>\n",
       "      <td>5.0</td>\n",
       "      <td>5.0</td>\n",
       "    </tr>\n",
       "    <tr>\n",
       "      <th>año</th>\n",
       "      <td>97386.0</td>\n",
       "      <td>2018.399164</td>\n",
       "      <td>1.393095</td>\n",
       "      <td>2016.0</td>\n",
       "      <td>2017.0</td>\n",
       "      <td>2019.0</td>\n",
       "      <td>2020.0</td>\n",
       "      <td>2020.0</td>\n",
       "    </tr>\n",
       "  </tbody>\n",
       "</table>\n",
       "</div>"
      ],
      "text/plain": [
       "                   count         mean         std     min     25%     50%  \\\n",
       "id_empleado      97386.0   999.160639  577.407222     1.0   500.0   999.0   \n",
       "id_agente        97386.0    25.468856   14.449455     1.0    13.0    26.0   \n",
       "días_resolución  97386.0     4.552749    4.365432     0.0     0.0     4.0   \n",
       "satisfacción     97386.0     4.100990    1.257093     1.0     4.0     5.0   \n",
       "año              97386.0  2018.399164    1.393095  2016.0  2017.0  2019.0   \n",
       "\n",
       "                    75%     max  \n",
       "id_empleado      1499.0  2000.0  \n",
       "id_agente          38.0    50.0  \n",
       "días_resolución     7.0    21.0  \n",
       "satisfacción        5.0     5.0  \n",
       "año              2020.0  2020.0  "
      ]
     },
     "execution_count": 10,
     "metadata": {},
     "output_type": "execute_result"
    }
   ],
   "source": [
    "df_numerico.describe().T"
   ]
  },
  {
   "attachments": {},
   "cell_type": "markdown",
   "metadata": {},
   "source": [
    "- Extraed los valores únicos."
   ]
  },
  {
   "cell_type": "code",
   "execution_count": 13,
   "metadata": {},
   "outputs": [
    {
     "name": "stdout",
     "output_type": "stream",
     "text": [
      "------------------------------------------------------------ \n",
      "\n",
      "En la columna id_ticket tenemos los siguientes valores unicos\n",
      "['GDDENR-5042564453' 'GDDENR-8042508060' 'GDDESR-1342539995' ...\n",
      " 'TWRTSR-9643846768' 'TWRTSR-9944138906' 'TWRTST-8643986162']\n",
      "\n",
      " ------------------------------------------------------------ \n",
      "\n",
      "------------------------------------------------------------ \n",
      "\n",
      "En la columna fecha tenemos los siguientes valores unicos\n",
      "['2016-07-13' '2016-05-18' '2016-06-18' ... '2020-06-03' '2020-06-12'\n",
      " '2020-02-19']\n",
      "\n",
      " ------------------------------------------------------------ \n",
      "\n",
      "------------------------------------------------------------ \n",
      "\n",
      "En la columna categoría tenemos los siguientes valores unicos\n",
      "['Acceso/Login' 'Sistema' 'Software' 'Hardware']\n",
      "\n",
      " ------------------------------------------------------------ \n",
      "\n",
      "------------------------------------------------------------ \n",
      "\n",
      "En la columna tipo tenemos los siguientes valores unicos\n",
      "['Problema' 'Solicitud']\n",
      "\n",
      " ------------------------------------------------------------ \n",
      "\n",
      "------------------------------------------------------------ \n",
      "\n",
      "En la columna severidad tenemos los siguientes valores unicos\n",
      "['0 - Sin Clasificar' '2 - Normal' '4 - Crítico' '3 - Mayor' '1 - Menor']\n",
      "\n",
      " ------------------------------------------------------------ \n",
      "\n",
      "------------------------------------------------------------ \n",
      "\n",
      "En la columna prioridad tenemos los siguientes valores unicos\n",
      "['0 - Sin Asignar' '3 - Alta' '2 - Media' '1 - Baja']\n",
      "\n",
      " ------------------------------------------------------------ \n",
      "\n",
      "------------------------------------------------------------ \n",
      "\n",
      "En la columna semestre tenemos los siguientes valores unicos\n",
      "['2º semestre' '1 semestre']\n",
      "\n",
      " ------------------------------------------------------------ \n",
      "\n",
      "------------------------------------------------------------ \n",
      "\n",
      "En la columna mes tenemos los siguientes valores unicos\n",
      "['Julio' 'Mayo' 'Junio' 'Abril' 'Agosto' 'Marzo' 'Enero' 'Septiembre'\n",
      " 'Octubre' 'Diciembre' 'Noviembre' 'Febrero']\n",
      "\n",
      " ------------------------------------------------------------ \n",
      "\n"
     ]
    }
   ],
   "source": [
    "for col in df_categorico.columns:\n",
    "    print(\"------------------------------------------------------------\", \"\\n\")\n",
    "    print(f\"En la columna {col} tenemos los siguientes valores unicos\")\n",
    "    print(df_categorico[col].unique())\n",
    "    print(\"\\n\", \"------------------------------------------------------------\", \"\\n\")"
   ]
  },
  {
   "cell_type": "code",
   "execution_count": 14,
   "metadata": {},
   "outputs": [
    {
     "name": "stdout",
     "output_type": "stream",
     "text": [
      "------------------------------------------------------------ \n",
      "\n",
      "En la columna id_empleado tenemos los siguientes valores unicos\n",
      "[1735 1566  569 ... 1528 1367 1600]\n",
      "\n",
      " ------------------------------------------------------------ \n",
      "\n",
      "------------------------------------------------------------ \n",
      "\n",
      "En la columna id_agente tenemos los siguientes valores unicos\n",
      "[ 4 10 29 40 31 20 36 18 12 42  5 21 17  2 24 23 15 46 43 27  8 45 32 38\n",
      " 33 41  3  9 25 39 16 47 14 48 37 35 34 28 30  1 11 19 44  6 26 49  7 22\n",
      " 50 13]\n",
      "\n",
      " ------------------------------------------------------------ \n",
      "\n",
      "------------------------------------------------------------ \n",
      "\n",
      "En la columna días_resolución tenemos los siguientes valores unicos\n",
      "[ 0  3  9  1  2  5  8  4 10  6  7 13 16 17 11 12 14 15 19 18 21 20]\n",
      "\n",
      " ------------------------------------------------------------ \n",
      "\n",
      "------------------------------------------------------------ \n",
      "\n",
      "En la columna satisfacción tenemos los siguientes valores unicos\n",
      "[5 1 4 3 2]\n",
      "\n",
      " ------------------------------------------------------------ \n",
      "\n",
      "------------------------------------------------------------ \n",
      "\n",
      "En la columna año tenemos los siguientes valores unicos\n",
      "[2016 2017 2018 2019 2020]\n",
      "\n",
      " ------------------------------------------------------------ \n",
      "\n"
     ]
    }
   ],
   "source": [
    "for col in df_numerico.columns:\n",
    "    print(\"------------------------------------------------------------\", \"\\n\")\n",
    "    print(f\"En la columna {col} tenemos los siguientes valores unicos\")\n",
    "    print(df_numerico[col].unique())\n",
    "    print(\"\\n\", \"------------------------------------------------------------\", \"\\n\")"
   ]
  },
  {
   "attachments": {},
   "cell_type": "markdown",
   "metadata": {},
   "source": [
    "BONUS presenta los resultados en un dataframe. Os deberá quedar algo como esto:\n",
    "\n",
    "Donde variable es cada una de las variables categóricas que tenemos en el dataset y n_unicos es una lista con los nombres de los valores únicos de cada variable."
   ]
  },
  {
   "cell_type": "code",
   "execution_count": 22,
   "metadata": {},
   "outputs": [
    {
     "data": {
      "text/html": [
       "<div>\n",
       "<style scoped>\n",
       "    .dataframe tbody tr th:only-of-type {\n",
       "        vertical-align: middle;\n",
       "    }\n",
       "\n",
       "    .dataframe tbody tr th {\n",
       "        vertical-align: top;\n",
       "    }\n",
       "\n",
       "    .dataframe thead th {\n",
       "        text-align: right;\n",
       "    }\n",
       "</style>\n",
       "<table border=\"1\" class=\"dataframe\">\n",
       "  <thead>\n",
       "    <tr style=\"text-align: right;\">\n",
       "      <th></th>\n",
       "      <th>variables</th>\n",
       "      <th>unicos</th>\n",
       "    </tr>\n",
       "  </thead>\n",
       "  <tbody>\n",
       "    <tr>\n",
       "      <th>0</th>\n",
       "      <td>id_ticket</td>\n",
       "      <td>[GDDENR-5042564453, GDDENR-8042508060, GDDESR-...</td>\n",
       "    </tr>\n",
       "    <tr>\n",
       "      <th>1</th>\n",
       "      <td>fecha</td>\n",
       "      <td>[2016-07-13, 2016-05-18, 2016-06-18, 2016-04-2...</td>\n",
       "    </tr>\n",
       "    <tr>\n",
       "      <th>2</th>\n",
       "      <td>categoría</td>\n",
       "      <td>[Acceso/Login, Sistema, Software, Hardware]</td>\n",
       "    </tr>\n",
       "    <tr>\n",
       "      <th>3</th>\n",
       "      <td>tipo</td>\n",
       "      <td>[Problema, Solicitud]</td>\n",
       "    </tr>\n",
       "    <tr>\n",
       "      <th>4</th>\n",
       "      <td>severidad</td>\n",
       "      <td>[0 - Sin Clasificar, 2 - Normal, 4 - Crítico, ...</td>\n",
       "    </tr>\n",
       "    <tr>\n",
       "      <th>5</th>\n",
       "      <td>prioridad</td>\n",
       "      <td>[0 - Sin Asignar, 3 - Alta, 2 - Media, 1 - Baja]</td>\n",
       "    </tr>\n",
       "    <tr>\n",
       "      <th>6</th>\n",
       "      <td>semestre</td>\n",
       "      <td>[2º semestre, 1 semestre]</td>\n",
       "    </tr>\n",
       "    <tr>\n",
       "      <th>7</th>\n",
       "      <td>mes</td>\n",
       "      <td>[Julio, Mayo, Junio, Abril, Agosto, Marzo, Ene...</td>\n",
       "    </tr>\n",
       "  </tbody>\n",
       "</table>\n",
       "</div>"
      ],
      "text/plain": [
       "   variables                                             unicos\n",
       "0  id_ticket  [GDDENR-5042564453, GDDENR-8042508060, GDDESR-...\n",
       "1      fecha  [2016-07-13, 2016-05-18, 2016-06-18, 2016-04-2...\n",
       "2  categoría        [Acceso/Login, Sistema, Software, Hardware]\n",
       "3       tipo                              [Problema, Solicitud]\n",
       "4  severidad  [0 - Sin Clasificar, 2 - Normal, 4 - Crítico, ...\n",
       "5  prioridad   [0 - Sin Asignar, 3 - Alta, 2 - Media, 1 - Baja]\n",
       "6   semestre                          [2º semestre, 1 semestre]\n",
       "7        mes  [Julio, Mayo, Junio, Abril, Agosto, Marzo, Ene..."
      ]
     },
     "execution_count": 22,
     "metadata": {},
     "output_type": "execute_result"
    }
   ],
   "source": [
    "dic_columnas = {\"variables\":[], \"unicos\":[]}\n",
    "\n",
    "for col in df_categorico.columns:\n",
    "    dic_columnas[\"variables\"].append(col)\n",
    "    dic_columnas[\"unicos\"].append(df_categorico[col].unique())\n",
    "\n",
    "df_cat_unicos = pd.DataFrame(dic_columnas)\n",
    "df_cat_unicos"
   ]
  },
  {
   "attachments": {},
   "cell_type": "markdown",
   "metadata": {},
   "source": [
    "## Conclusiones\n",
    "De qué nos sirven estos números y dataframe? Extraed conclusiones de ellos.\n",
    "Por ejemplo:\n"
   ]
  },
  {
   "attachments": {},
   "cell_type": "markdown",
   "metadata": {},
   "source": [
    "¿Hay alguna columna que no tenga sentido su tipo de datos?"
   ]
  },
  {
   "attachments": {},
   "cell_type": "markdown",
   "metadata": {},
   "source": [
    "- No, ya que eliminamos la columna llamada Unamed: 0."
   ]
  },
  {
   "attachments": {},
   "cell_type": "markdown",
   "metadata": {},
   "source": [
    "¿Hay alguna columna que no tenga sentido su nombre?\n"
   ]
  },
  {
   "attachments": {},
   "cell_type": "markdown",
   "metadata": {},
   "source": [
    "- No, ya que eliminamos la columna llamada Unamed: 0"
   ]
  },
  {
   "attachments": {},
   "cell_type": "markdown",
   "metadata": {},
   "source": [
    "¿Hay alguna columna que no tenga sentido su contenido?\n"
   ]
  },
  {
   "attachments": {},
   "cell_type": "markdown",
   "metadata": {},
   "source": [
    "- No, ya que eliminamos la columna llamada Unamed: 0"
   ]
  },
  {
   "cell_type": "markdown",
   "metadata": {},
   "source": [
    "¿Hay alguna columna que tenga demasiadas categorías o valores que nos pueda hacer difícil trabajar con ella?"
   ]
  },
  {
   "attachments": {},
   "cell_type": "markdown",
   "metadata": {},
   "source": [
    "- En este analisis exploratorio de datos no encontramos ninguna columna con la que fuera tedioso trabajar. "
   ]
  }
 ],
 "metadata": {
  "kernelspec": {
   "display_name": "base",
   "language": "python",
   "name": "python3"
  },
  "language_info": {
   "codemirror_mode": {
    "name": "ipython",
    "version": 3
   },
   "file_extension": ".py",
   "mimetype": "text/x-python",
   "name": "python",
   "nbconvert_exporter": "python",
   "pygments_lexer": "ipython3",
   "version": "3.9.7"
  },
  "orig_nbformat": 4
 },
 "nbformat": 4,
 "nbformat_minor": 2
}
