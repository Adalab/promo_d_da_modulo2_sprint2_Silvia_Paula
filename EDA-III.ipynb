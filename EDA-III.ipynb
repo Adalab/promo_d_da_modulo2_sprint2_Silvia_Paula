{
 "cells": [
  {
   "attachments": {},
   "cell_type": "markdown",
   "metadata": {},
   "source": [
    "En el ejercicio de hoy tendremos que contestar a las siguientes preguntas:\n",
    "\n",
    "📌 Nota Como siempre, después de cada gráfica incluid una pequeña explicación de lo que nos está mostrando la gráfica."
   ]
  },
  {
   "cell_type": "code",
   "execution_count": 2,
   "metadata": {},
   "outputs": [],
   "source": [
    "import pandas as pd\n",
    "import numpy as np\n",
    "import seaborn as sns\n",
    "import matplotlib.pyplot as plt\n",
    "import os\n",
    "\n",
    "import warnings\n",
    "warnings.filterwarnings('ignore')"
   ]
  },
  {
   "attachments": {},
   "cell_type": "markdown",
   "metadata": {},
   "source": [
    "Estableced el tamaño de las figuras al inicio de vuestro jupyter para que todas tengan las mismas dimensiones."
   ]
  },
  {
   "cell_type": "code",
   "execution_count": 3,
   "metadata": {},
   "outputs": [],
   "source": [
    "plt.rcParams[\"figure.figsize\"] = (15,10)"
   ]
  },
  {
   "cell_type": "code",
   "execution_count": 4,
   "metadata": {},
   "outputs": [],
   "source": [
    "#os.chdir(\"pairs_modulo_2/promo_d_da_modulo2_sprint2_Silvia_Paula/\")"
   ]
  },
  {
   "cell_type": "code",
   "execution_count": 5,
   "metadata": {},
   "outputs": [],
   "source": [
    "df_tickets = pd.read_csv(\"datos/historico_tickets_limpio_pandas.csv\", index_col= 0)"
   ]
  },
  {
   "cell_type": "code",
   "execution_count": 6,
   "metadata": {},
   "outputs": [
    {
     "data": {
      "text/html": [
       "<div>\n",
       "<style scoped>\n",
       "    .dataframe tbody tr th:only-of-type {\n",
       "        vertical-align: middle;\n",
       "    }\n",
       "\n",
       "    .dataframe tbody tr th {\n",
       "        vertical-align: top;\n",
       "    }\n",
       "\n",
       "    .dataframe thead th {\n",
       "        text-align: right;\n",
       "    }\n",
       "</style>\n",
       "<table border=\"1\" class=\"dataframe\">\n",
       "  <thead>\n",
       "    <tr style=\"text-align: right;\">\n",
       "      <th></th>\n",
       "      <th>id_ticket</th>\n",
       "      <th>fecha</th>\n",
       "      <th>id_empleado</th>\n",
       "      <th>id_agente</th>\n",
       "      <th>categoría</th>\n",
       "      <th>tipo</th>\n",
       "      <th>severidad</th>\n",
       "      <th>prioridad</th>\n",
       "      <th>días_resolución</th>\n",
       "      <th>satisfacción</th>\n",
       "      <th>semestre</th>\n",
       "      <th>año</th>\n",
       "      <th>mes</th>\n",
       "    </tr>\n",
       "  </thead>\n",
       "  <tbody>\n",
       "    <tr>\n",
       "      <th>0</th>\n",
       "      <td>GDDENR-5042564453</td>\n",
       "      <td>2016-07-13</td>\n",
       "      <td>1735</td>\n",
       "      <td>4</td>\n",
       "      <td>Acceso/Login</td>\n",
       "      <td>Problema</td>\n",
       "      <td>0 - Sin Clasificar</td>\n",
       "      <td>0 - Sin Asignar</td>\n",
       "      <td>0</td>\n",
       "      <td>5</td>\n",
       "      <td>2º semestre</td>\n",
       "      <td>2016</td>\n",
       "      <td>Julio</td>\n",
       "    </tr>\n",
       "    <tr>\n",
       "      <th>1</th>\n",
       "      <td>GDDENR-8042508060</td>\n",
       "      <td>2016-05-18</td>\n",
       "      <td>1566</td>\n",
       "      <td>10</td>\n",
       "      <td>Acceso/Login</td>\n",
       "      <td>Problema</td>\n",
       "      <td>0 - Sin Clasificar</td>\n",
       "      <td>0 - Sin Asignar</td>\n",
       "      <td>0</td>\n",
       "      <td>5</td>\n",
       "      <td>1 semestre</td>\n",
       "      <td>2016</td>\n",
       "      <td>Mayo</td>\n",
       "    </tr>\n",
       "  </tbody>\n",
       "</table>\n",
       "</div>"
      ],
      "text/plain": [
       "           id_ticket       fecha  id_empleado  id_agente     categoría  \\\n",
       "0  GDDENR-5042564453  2016-07-13         1735          4  Acceso/Login   \n",
       "1  GDDENR-8042508060  2016-05-18         1566         10  Acceso/Login   \n",
       "\n",
       "       tipo           severidad        prioridad  días_resolución  \\\n",
       "0  Problema  0 - Sin Clasificar  0 - Sin Asignar                0   \n",
       "1  Problema  0 - Sin Clasificar  0 - Sin Asignar                0   \n",
       "\n",
       "   satisfacción     semestre   año    mes  \n",
       "0             5  2º semestre  2016  Julio  \n",
       "1             5   1 semestre  2016   Mayo  "
      ]
     },
     "execution_count": 6,
     "metadata": {},
     "output_type": "execute_result"
    }
   ],
   "source": [
    "df_tickets.head(2)"
   ]
  },
  {
   "attachments": {},
   "cell_type": "markdown",
   "metadata": {},
   "source": [
    "Manos a la obra con los plots, estos irán muy dirigidos hacia las preguntas que queremos contestar, para hacer una primera aproximación a nuestras hipótesis:\n",
    "\n",
    "En la primera gráfica tendremos que contestar la siguiente pregunta: \n",
    "\n",
    "¿Son los tickets con mayor severidad y prioridad los que se resuelven antes?. Para eso tendréis que:"
   ]
  },
  {
   "attachments": {},
   "cell_type": "markdown",
   "metadata": {},
   "source": [
    "- Crear un subplot con dos gráficas.\n",
    "- En la primera gráfica tendréis que mostrar la relación que existe entre la severidad y el tiempo de resolución. ¿Son los tickets que tienen una severidad más alta los que más tardan en resolverse?\n"
   ]
  },
  {
   "cell_type": "code",
   "execution_count": 7,
   "metadata": {},
   "outputs": [
    {
     "data": {
      "text/plain": [
       "['0 - Sin Clasificar', '1 - Menor', '2 - Normal', '3 - Mayor', '4 - Crítico']"
      ]
     },
     "execution_count": 7,
     "metadata": {},
     "output_type": "execute_result"
    }
   ],
   "source": [
    "list(np.sort(df_tickets[\"severidad\"].unique()))"
   ]
  },
  {
   "cell_type": "code",
   "execution_count": 8,
   "metadata": {},
   "outputs": [
    {
     "data": {
      "text/plain": [
       "([<matplotlib.axis.XTick at 0x7f9e0979e760>,\n",
       "  <matplotlib.axis.XTick at 0x7f9e0979e730>,\n",
       "  <matplotlib.axis.XTick at 0x7f9e08fbeb20>,\n",
       "  <matplotlib.axis.XTick at 0x7f9e08f34310>,\n",
       "  <matplotlib.axis.XTick at 0x7f9e08f34a60>],\n",
       " [Text(0, 0, '0 - Sin Clasificar'),\n",
       "  Text(1, 0, '1 - Menor'),\n",
       "  Text(2, 0, '2 - Normal'),\n",
       "  Text(3, 0, '3 - Mayor'),\n",
       "  Text(4, 0, '4 - Crítico')])"
      ]
     },
     "execution_count": 8,
     "metadata": {},
     "output_type": "execute_result"
    },
    {
     "data": {
      "image/png": "[encoded data removed]",
      "text/plain": [
       "<Figure size 1080x720 with 1 Axes>"
      ]
     },
     "metadata": {
      "needs_background": "light"
     },
     "output_type": "display_data"
    }
   ],
   "source": [
    "sns.boxplot(x = \"severidad\", y = \"días_resolución\", data = df_tickets)\n",
    "plt.xticks(ticks = [0,1,2,3,4], labels = list(np.sort(df_tickets[\"severidad\"].unique())))\n"
   ]
  },
  {
   "attachments": {},
   "cell_type": "markdown",
   "metadata": {},
   "source": [
    "- En la segunda gráfica tendréis que mostrar la relación que existe entre la prioridad y el tiempo de resolución. ¿Son los tickets que tienen una prioridad más alta los que más tardan en resolverse?"
   ]
  },
  {
   "cell_type": "code",
   "execution_count": 9,
   "metadata": {},
   "outputs": [
    {
     "data": {
      "image/png": "[encoded data removed]",
      "text/plain": [
       "<Figure size 1080x720 with 1 Axes>"
      ]
     },
     "metadata": {
      "needs_background": "light"
     },
     "output_type": "display_data"
    }
   ],
   "source": [
    "sns.boxplot(x = \"prioridad\", y = \"días_resolución\", data = df_tickets)\n",
    "plt.xticks(ticks = [0,1,2,3], labels = list(np.sort(df_tickets[\"prioridad\"].unique())));"
   ]
  },
  {
   "cell_type": "code",
   "execution_count": 10,
   "metadata": {},
   "outputs": [
    {
     "data": {
      "image/png": "[encoded data removed]",
      "text/plain": [
       "<Figure size 1080x720 with 2 Axes>"
      ]
     },
     "metadata": {
      "needs_background": "light"
     },
     "output_type": "display_data"
    }
   ],
   "source": [
    "fig, axes = plt.subplots(1,2)\n",
    "sns.boxplot(x = \"severidad\", y = \"días_resolución\", data = df_tickets, ax= axes[0])\n",
    "axes[0].set_xticks(ticks = [0,1,2,3,4])\n",
    "axes[0].set_xticklabels = list(np.sort(df_tickets[\"severidad\"].unique()))\n",
    "sns.boxplot(x = \"prioridad\", y = \"días_resolución\", data = df_tickets, ax= axes[1])\n",
    "axes[1].set_xticks(ticks = [0,1,2,3]) \n",
    "axes[1].set_xticklabels = list(np.sort(df_tickets[\"prioridad\"].unique()))"
   ]
  },
  {
   "attachments": {},
   "cell_type": "markdown",
   "metadata": {},
   "source": [
    "En la segunda gráfica contestaremos a la siguiente pregunta: \n",
    "\n",
    "¿Están los clientes con problemas de acceso y login más contentos que los que tienen problemas de software?. Para eso tendréis que:"
   ]
  },
  {
   "attachments": {},
   "cell_type": "markdown",
   "metadata": {},
   "source": [
    "- Crear otro dataframe donde tengáis solo los datos para los datos para los problemas de tipo \"Acceso/Login\" o \"Software\".\n",
    "- Crear una gráfica donde podamos ver la satisfacción de los clientes en función de los problemas filtrados en el paso anterior."
   ]
  },
  {
   "cell_type": "code",
   "execution_count": null,
   "metadata": {},
   "outputs": [],
   "source": [
    "df_tickets.head(1)"
   ]
  },
  {
   "cell_type": "code",
   "execution_count": null,
   "metadata": {},
   "outputs": [],
   "source": [
    "df_acceso = df_tickets[df_tickets[\"categoría\"].isin([\"Acceso/Login\", \"Software\"])]\n",
    "df_acceso.head()"
   ]
  },
  {
   "cell_type": "code",
   "execution_count": null,
   "metadata": {},
   "outputs": [],
   "source": [
    "sns.boxplot(x = \"\", y = \"\", data = df_tickets)\n",
    "plt.xticks(ticks = [0,1,2,3], labels = list(np.sort(df_tickets[\"\"].unique())))"
   ]
  },
  {
   "attachments": {},
   "cell_type": "markdown",
   "metadata": {},
   "source": [
    "En la tercera gráfica contestaremos a las siguientes preguntas \n",
    "\n",
    "¿Cuáles son los empleados que más tickets atienden? \n",
    "\n",
    "¿Son los empleados que atienden más tickets los que tardan más en solucionar los problemas de los clientes? \n",
    "\n",
    "¿Y la media de la satisfacción de los clientes es menor en aquellos empleados que atienden más solicitudes?. \n",
    "\n",
    "Para contestar a esto haremos 3 gráficas independientes:"
   ]
  },
  {
   "attachments": {},
   "cell_type": "markdown",
   "metadata": {},
   "source": [
    "En la primera gráfica deberemos, \n",
    "- Cuáles son los empleados que más tickets atienden?:\n",
    "- Sacar el número de tickets por empleado. Pista 💡 Para esto tendremos que usar un groupby.\n",
    "- Visualizar el resultado del groupby anterior con la gráfica que sea más adecuada."
   ]
  },
  {
   "cell_type": "code",
   "execution_count": null,
   "metadata": {},
   "outputs": [],
   "source": []
  },
  {
   "attachments": {},
   "cell_type": "markdown",
   "metadata": {},
   "source": [
    "En la segunda gráfica, ¿Son los empleados que atienden más tickets los que tardan más en solucionar los problemas de los clientes?\n",
    "- Deberéis crear una lista donde tengamos los \"id's\" de los 10 empleados que resuelvan más cantidad tickets y con los 10 empleados que resuelvan menos cantidad de tickets.\n",
    "- Usando la lista generada en el ejercicio anterior filtrad el dataframe para quedaros solo con los 10 seleccionados en el ejercicio anterior.\n",
    "- Una vez tengáis el dataframe filtrado, cread una gráfica donde veamos el tiempo de resolución de solicitudes para cada empleado"
   ]
  },
  {
   "cell_type": "code",
   "execution_count": null,
   "metadata": {},
   "outputs": [],
   "source": []
  },
  {
   "attachments": {},
   "cell_type": "markdown",
   "metadata": {},
   "source": [
    "En la tercera gráfica, ¿Y la media de la satisfacción de los clientes es menor en aquellos empleados que atienden más solicitudes?:\n",
    "📌 Usaremos los mismos datos que en la pregunta anterior, el dataframe de los 10 empleados más productivos y menos productivos.\n",
    "- Cread una gráfica donde veamos la satisfacción de los clientes para cada empleado."
   ]
  },
  {
   "cell_type": "code",
   "execution_count": null,
   "metadata": {},
   "outputs": [],
   "source": []
  }
 ],
 "metadata": {
  "kernelspec": {
   "display_name": "base",
   "language": "python",
   "name": "python3"
  },
  "language_info": {
   "codemirror_mode": {
    "name": "ipython",
    "version": 3
   },
   "file_extension": ".py",
   "mimetype": "text/x-python",
   "name": "python",
   "nbconvert_exporter": "python",
   "pygments_lexer": "ipython3",
   "version": "3.9.7"
  },
  "orig_nbformat": 4
 },
 "nbformat": 4,
 "nbformat_minor": 2
}
